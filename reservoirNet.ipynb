{
  "nbformat": 4,
  "nbformat_minor": 0,
  "metadata": {
    "kernelspec": {
      "name": "python3",
      "display_name": "Python 3"
    },
    "language_info": {
      "codemirror_mode": {
        "name": "ipython",
        "version": 3
      },
      "file_extension": ".py",
      "mimetype": "text/x-python",
      "name": "python",
      "nbconvert_exporter": "python",
      "pygments_lexer": "ipython3",
      "version": "3.6.6"
    },
    "widgets": {
      "application/vnd.jupyter.widget-state+json": {
        "901e62ee42c04f3583d588e8c40a2c82": {
          "model_module": "@jupyter-widgets/controls",
          "model_name": "HBoxModel",
          "state": {
            "_view_name": "HBoxView",
            "_dom_classes": [],
            "_model_name": "HBoxModel",
            "_view_module": "@jupyter-widgets/controls",
            "_model_module_version": "1.5.0",
            "_view_count": null,
            "_view_module_version": "1.5.0",
            "box_style": "",
            "layout": "IPY_MODEL_df0647d2b1c04702ba54e073bee74e0c",
            "_model_module": "@jupyter-widgets/controls",
            "children": [
              "IPY_MODEL_8e5a47d7dcd6426a8023592026f79064",
              "IPY_MODEL_33e6f453905e4c539c6aee2fdb68743a"
            ]
          }
        },
        "df0647d2b1c04702ba54e073bee74e0c": {
          "model_module": "@jupyter-widgets/base",
          "model_name": "LayoutModel",
          "state": {
            "_view_name": "LayoutView",
            "grid_template_rows": null,
            "right": null,
            "justify_content": null,
            "_view_module": "@jupyter-widgets/base",
            "overflow": null,
            "_model_module_version": "1.2.0",
            "_view_count": null,
            "flex_flow": null,
            "width": null,
            "min_width": null,
            "border": null,
            "align_items": null,
            "bottom": null,
            "_model_module": "@jupyter-widgets/base",
            "top": null,
            "grid_column": null,
            "overflow_y": null,
            "overflow_x": null,
            "grid_auto_flow": null,
            "grid_area": null,
            "grid_template_columns": null,
            "flex": null,
            "_model_name": "LayoutModel",
            "justify_items": null,
            "grid_row": null,
            "max_height": null,
            "align_content": null,
            "visibility": null,
            "align_self": null,
            "height": null,
            "min_height": null,
            "padding": null,
            "grid_auto_rows": null,
            "grid_gap": null,
            "max_width": null,
            "order": null,
            "_view_module_version": "1.2.0",
            "grid_template_areas": null,
            "object_position": null,
            "object_fit": null,
            "grid_auto_columns": null,
            "margin": null,
            "display": null,
            "left": null
          }
        },
        "8e5a47d7dcd6426a8023592026f79064": {
          "model_module": "@jupyter-widgets/controls",
          "model_name": "IntProgressModel",
          "state": {
            "_view_name": "ProgressView",
            "style": "IPY_MODEL_8b9ea1b98fa04928bd9938b9d661413d",
            "_dom_classes": [],
            "description": "",
            "_model_name": "IntProgressModel",
            "bar_style": "success",
            "max": 1,
            "_view_module": "@jupyter-widgets/controls",
            "_model_module_version": "1.5.0",
            "value": 1,
            "_view_count": null,
            "_view_module_version": "1.5.0",
            "orientation": "horizontal",
            "min": 0,
            "description_tooltip": null,
            "_model_module": "@jupyter-widgets/controls",
            "layout": "IPY_MODEL_a6b2c88603504f04920465a0fc79f915"
          }
        },
        "33e6f453905e4c539c6aee2fdb68743a": {
          "model_module": "@jupyter-widgets/controls",
          "model_name": "HTMLModel",
          "state": {
            "_view_name": "HTMLView",
            "style": "IPY_MODEL_8a6779d14498467b82aa048c062d7144",
            "_dom_classes": [],
            "description": "",
            "_model_name": "HTMLModel",
            "placeholder": "​",
            "_view_module": "@jupyter-widgets/controls",
            "_model_module_version": "1.5.0",
            "value": "Train progress: (899 / 1000): 900it [11:48,  1.23it/s]",
            "_view_count": null,
            "_view_module_version": "1.5.0",
            "description_tooltip": null,
            "_model_module": "@jupyter-widgets/controls",
            "layout": "IPY_MODEL_72f7bae058a34b73af9ee1ddb6cd322e"
          }
        },
        "8b9ea1b98fa04928bd9938b9d661413d": {
          "model_module": "@jupyter-widgets/controls",
          "model_name": "ProgressStyleModel",
          "state": {
            "_view_name": "StyleView",
            "_model_name": "ProgressStyleModel",
            "description_width": "",
            "_view_module": "@jupyter-widgets/base",
            "_model_module_version": "1.5.0",
            "_view_count": null,
            "_view_module_version": "1.2.0",
            "bar_color": null,
            "_model_module": "@jupyter-widgets/controls"
          }
        },
        "a6b2c88603504f04920465a0fc79f915": {
          "model_module": "@jupyter-widgets/base",
          "model_name": "LayoutModel",
          "state": {
            "_view_name": "LayoutView",
            "grid_template_rows": null,
            "right": null,
            "justify_content": null,
            "_view_module": "@jupyter-widgets/base",
            "overflow": null,
            "_model_module_version": "1.2.0",
            "_view_count": null,
            "flex_flow": null,
            "width": null,
            "min_width": null,
            "border": null,
            "align_items": null,
            "bottom": null,
            "_model_module": "@jupyter-widgets/base",
            "top": null,
            "grid_column": null,
            "overflow_y": null,
            "overflow_x": null,
            "grid_auto_flow": null,
            "grid_area": null,
            "grid_template_columns": null,
            "flex": null,
            "_model_name": "LayoutModel",
            "justify_items": null,
            "grid_row": null,
            "max_height": null,
            "align_content": null,
            "visibility": null,
            "align_self": null,
            "height": null,
            "min_height": null,
            "padding": null,
            "grid_auto_rows": null,
            "grid_gap": null,
            "max_width": null,
            "order": null,
            "_view_module_version": "1.2.0",
            "grid_template_areas": null,
            "object_position": null,
            "object_fit": null,
            "grid_auto_columns": null,
            "margin": null,
            "display": null,
            "left": null
          }
        },
        "8a6779d14498467b82aa048c062d7144": {
          "model_module": "@jupyter-widgets/controls",
          "model_name": "DescriptionStyleModel",
          "state": {
            "_view_name": "StyleView",
            "_model_name": "DescriptionStyleModel",
            "description_width": "",
            "_view_module": "@jupyter-widgets/base",
            "_model_module_version": "1.5.0",
            "_view_count": null,
            "_view_module_version": "1.2.0",
            "_model_module": "@jupyter-widgets/controls"
          }
        },
        "72f7bae058a34b73af9ee1ddb6cd322e": {
          "model_module": "@jupyter-widgets/base",
          "model_name": "LayoutModel",
          "state": {
            "_view_name": "LayoutView",
            "grid_template_rows": null,
            "right": null,
            "justify_content": null,
            "_view_module": "@jupyter-widgets/base",
            "overflow": null,
            "_model_module_version": "1.2.0",
            "_view_count": null,
            "flex_flow": null,
            "width": null,
            "min_width": null,
            "border": null,
            "align_items": null,
            "bottom": null,
            "_model_module": "@jupyter-widgets/base",
            "top": null,
            "grid_column": null,
            "overflow_y": null,
            "overflow_x": null,
            "grid_auto_flow": null,
            "grid_area": null,
            "grid_template_columns": null,
            "flex": null,
            "_model_name": "LayoutModel",
            "justify_items": null,
            "grid_row": null,
            "max_height": null,
            "align_content": null,
            "visibility": null,
            "align_self": null,
            "height": null,
            "min_height": null,
            "padding": null,
            "grid_auto_rows": null,
            "grid_gap": null,
            "max_width": null,
            "order": null,
            "_view_module_version": "1.2.0",
            "grid_template_areas": null,
            "object_position": null,
            "object_fit": null,
            "grid_auto_columns": null,
            "margin": null,
            "display": null,
            "left": null
          }
        },
        "be15cc4d21334a99be161a800d4a6e9e": {
          "model_module": "@jupyter-widgets/controls",
          "model_name": "HBoxModel",
          "state": {
            "_view_name": "HBoxView",
            "_dom_classes": [],
            "_model_name": "HBoxModel",
            "_view_module": "@jupyter-widgets/controls",
            "_model_module_version": "1.5.0",
            "_view_count": null,
            "_view_module_version": "1.5.0",
            "box_style": "",
            "layout": "IPY_MODEL_18dde3d2451a4d2abd87c1a07b96b178",
            "_model_module": "@jupyter-widgets/controls",
            "children": [
              "IPY_MODEL_50b000ecf3c74e19bc144a5c80bc1335",
              "IPY_MODEL_cad2b20dd0da4379a29c144348026b52"
            ]
          }
        },
        "18dde3d2451a4d2abd87c1a07b96b178": {
          "model_module": "@jupyter-widgets/base",
          "model_name": "LayoutModel",
          "state": {
            "_view_name": "LayoutView",
            "grid_template_rows": null,
            "right": null,
            "justify_content": null,
            "_view_module": "@jupyter-widgets/base",
            "overflow": null,
            "_model_module_version": "1.2.0",
            "_view_count": null,
            "flex_flow": null,
            "width": null,
            "min_width": null,
            "border": null,
            "align_items": null,
            "bottom": null,
            "_model_module": "@jupyter-widgets/base",
            "top": null,
            "grid_column": null,
            "overflow_y": null,
            "overflow_x": null,
            "grid_auto_flow": null,
            "grid_area": null,
            "grid_template_columns": null,
            "flex": null,
            "_model_name": "LayoutModel",
            "justify_items": null,
            "grid_row": null,
            "max_height": null,
            "align_content": null,
            "visibility": null,
            "align_self": null,
            "height": null,
            "min_height": null,
            "padding": null,
            "grid_auto_rows": null,
            "grid_gap": null,
            "max_width": null,
            "order": null,
            "_view_module_version": "1.2.0",
            "grid_template_areas": null,
            "object_position": null,
            "object_fit": null,
            "grid_auto_columns": null,
            "margin": null,
            "display": null,
            "left": null
          }
        },
        "50b000ecf3c74e19bc144a5c80bc1335": {
          "model_module": "@jupyter-widgets/controls",
          "model_name": "IntProgressModel",
          "state": {
            "_view_name": "ProgressView",
            "style": "IPY_MODEL_78c1ce6bfde44a3a8db711a9456e2fd0",
            "_dom_classes": [],
            "description": "",
            "_model_name": "IntProgressModel",
            "bar_style": "success",
            "max": 1,
            "_view_module": "@jupyter-widgets/controls",
            "_model_module_version": "1.5.0",
            "value": 1,
            "_view_count": null,
            "_view_module_version": "1.5.0",
            "orientation": "horizontal",
            "min": 0,
            "description_tooltip": null,
            "_model_module": "@jupyter-widgets/controls",
            "layout": "IPY_MODEL_d90bc20421774ae7aaeccdd59e821f31"
          }
        },
        "cad2b20dd0da4379a29c144348026b52": {
          "model_module": "@jupyter-widgets/controls",
          "model_name": "HTMLModel",
          "state": {
            "_view_name": "HTMLView",
            "style": "IPY_MODEL_c7ad52c85340456da5efac73a78aeda7",
            "_dom_classes": [],
            "description": "",
            "_model_name": "HTMLModel",
            "placeholder": "​",
            "_view_module": "@jupyter-widgets/controls",
            "_model_module_version": "1.5.0",
            "value": "Train progress: (99 / 1000): 100it [01:18,  1.27it/s]",
            "_view_count": null,
            "_view_module_version": "1.5.0",
            "description_tooltip": null,
            "_model_module": "@jupyter-widgets/controls",
            "layout": "IPY_MODEL_0e418bd6f5a24254b3dd187fa83a4043"
          }
        },
        "78c1ce6bfde44a3a8db711a9456e2fd0": {
          "model_module": "@jupyter-widgets/controls",
          "model_name": "ProgressStyleModel",
          "state": {
            "_view_name": "StyleView",
            "_model_name": "ProgressStyleModel",
            "description_width": "",
            "_view_module": "@jupyter-widgets/base",
            "_model_module_version": "1.5.0",
            "_view_count": null,
            "_view_module_version": "1.2.0",
            "bar_color": null,
            "_model_module": "@jupyter-widgets/controls"
          }
        },
        "d90bc20421774ae7aaeccdd59e821f31": {
          "model_module": "@jupyter-widgets/base",
          "model_name": "LayoutModel",
          "state": {
            "_view_name": "LayoutView",
            "grid_template_rows": null,
            "right": null,
            "justify_content": null,
            "_view_module": "@jupyter-widgets/base",
            "overflow": null,
            "_model_module_version": "1.2.0",
            "_view_count": null,
            "flex_flow": null,
            "width": null,
            "min_width": null,
            "border": null,
            "align_items": null,
            "bottom": null,
            "_model_module": "@jupyter-widgets/base",
            "top": null,
            "grid_column": null,
            "overflow_y": null,
            "overflow_x": null,
            "grid_auto_flow": null,
            "grid_area": null,
            "grid_template_columns": null,
            "flex": null,
            "_model_name": "LayoutModel",
            "justify_items": null,
            "grid_row": null,
            "max_height": null,
            "align_content": null,
            "visibility": null,
            "align_self": null,
            "height": null,
            "min_height": null,
            "padding": null,
            "grid_auto_rows": null,
            "grid_gap": null,
            "max_width": null,
            "order": null,
            "_view_module_version": "1.2.0",
            "grid_template_areas": null,
            "object_position": null,
            "object_fit": null,
            "grid_auto_columns": null,
            "margin": null,
            "display": null,
            "left": null
          }
        },
        "c7ad52c85340456da5efac73a78aeda7": {
          "model_module": "@jupyter-widgets/controls",
          "model_name": "DescriptionStyleModel",
          "state": {
            "_view_name": "StyleView",
            "_model_name": "DescriptionStyleModel",
            "description_width": "",
            "_view_module": "@jupyter-widgets/base",
            "_model_module_version": "1.5.0",
            "_view_count": null,
            "_view_module_version": "1.2.0",
            "_model_module": "@jupyter-widgets/controls"
          }
        },
        "0e418bd6f5a24254b3dd187fa83a4043": {
          "model_module": "@jupyter-widgets/base",
          "model_name": "LayoutModel",
          "state": {
            "_view_name": "LayoutView",
            "grid_template_rows": null,
            "right": null,
            "justify_content": null,
            "_view_module": "@jupyter-widgets/base",
            "overflow": null,
            "_model_module_version": "1.2.0",
            "_view_count": null,
            "flex_flow": null,
            "width": null,
            "min_width": null,
            "border": null,
            "align_items": null,
            "bottom": null,
            "_model_module": "@jupyter-widgets/base",
            "top": null,
            "grid_column": null,
            "overflow_y": null,
            "overflow_x": null,
            "grid_auto_flow": null,
            "grid_area": null,
            "grid_template_columns": null,
            "flex": null,
            "_model_name": "LayoutModel",
            "justify_items": null,
            "grid_row": null,
            "max_height": null,
            "align_content": null,
            "visibility": null,
            "align_self": null,
            "height": null,
            "min_height": null,
            "padding": null,
            "grid_auto_rows": null,
            "grid_gap": null,
            "max_width": null,
            "order": null,
            "_view_module_version": "1.2.0",
            "grid_template_areas": null,
            "object_position": null,
            "object_fit": null,
            "grid_auto_columns": null,
            "margin": null,
            "display": null,
            "left": null
          }
        },
        "a887d651f7f14b85947082b5bf02ef37": {
          "model_module": "@jupyter-widgets/controls",
          "model_name": "HBoxModel",
          "state": {
            "_view_name": "HBoxView",
            "_dom_classes": [],
            "_model_name": "HBoxModel",
            "_view_module": "@jupyter-widgets/controls",
            "_model_module_version": "1.5.0",
            "_view_count": null,
            "_view_module_version": "1.5.0",
            "box_style": "",
            "layout": "IPY_MODEL_9e2030504a4a4412a44ddfe83c4c9ed4",
            "_model_module": "@jupyter-widgets/controls",
            "children": [
              "IPY_MODEL_969f2e09fb7048279e3e4864d00f4d53",
              "IPY_MODEL_fb6e9986b30f45eaa00ef8187a9a2cf5"
            ]
          }
        },
        "9e2030504a4a4412a44ddfe83c4c9ed4": {
          "model_module": "@jupyter-widgets/base",
          "model_name": "LayoutModel",
          "state": {
            "_view_name": "LayoutView",
            "grid_template_rows": null,
            "right": null,
            "justify_content": null,
            "_view_module": "@jupyter-widgets/base",
            "overflow": null,
            "_model_module_version": "1.2.0",
            "_view_count": null,
            "flex_flow": null,
            "width": null,
            "min_width": null,
            "border": null,
            "align_items": null,
            "bottom": null,
            "_model_module": "@jupyter-widgets/base",
            "top": null,
            "grid_column": null,
            "overflow_y": null,
            "overflow_x": null,
            "grid_auto_flow": null,
            "grid_area": null,
            "grid_template_columns": null,
            "flex": null,
            "_model_name": "LayoutModel",
            "justify_items": null,
            "grid_row": null,
            "max_height": null,
            "align_content": null,
            "visibility": null,
            "align_self": null,
            "height": null,
            "min_height": null,
            "padding": null,
            "grid_auto_rows": null,
            "grid_gap": null,
            "max_width": null,
            "order": null,
            "_view_module_version": "1.2.0",
            "grid_template_areas": null,
            "object_position": null,
            "object_fit": null,
            "grid_auto_columns": null,
            "margin": null,
            "display": null,
            "left": null
          }
        },
        "969f2e09fb7048279e3e4864d00f4d53": {
          "model_module": "@jupyter-widgets/controls",
          "model_name": "IntProgressModel",
          "state": {
            "_view_name": "ProgressView",
            "style": "IPY_MODEL_b4b5f15785ef4cd699cf4bdf0176ca1d",
            "_dom_classes": [],
            "description": "",
            "_model_name": "IntProgressModel",
            "bar_style": "success",
            "max": 1,
            "_view_module": "@jupyter-widgets/controls",
            "_model_module_version": "1.5.0",
            "value": 1,
            "_view_count": null,
            "_view_module_version": "1.5.0",
            "orientation": "horizontal",
            "min": 0,
            "description_tooltip": null,
            "_model_module": "@jupyter-widgets/controls",
            "layout": "IPY_MODEL_db33b80f199343ffb26ff81f3d4cf09c"
          }
        },
        "fb6e9986b30f45eaa00ef8187a9a2cf5": {
          "model_module": "@jupyter-widgets/controls",
          "model_name": "HTMLModel",
          "state": {
            "_view_name": "HTMLView",
            "style": "IPY_MODEL_c2f788b724664ac6a6a86d2e050b2255",
            "_dom_classes": [],
            "description": "",
            "_model_name": "HTMLModel",
            "placeholder": "​",
            "_view_module": "@jupyter-widgets/controls",
            "_model_module_version": "1.5.0",
            "value": "Epoch: 75/75, Loss: 0.2973: 75it [5:04:33, 242.79s/it]",
            "_view_count": null,
            "_view_module_version": "1.5.0",
            "description_tooltip": null,
            "_model_module": "@jupyter-widgets/controls",
            "layout": "IPY_MODEL_56270b22211342178d0610b7e0a5e7c1"
          }
        },
        "b4b5f15785ef4cd699cf4bdf0176ca1d": {
          "model_module": "@jupyter-widgets/controls",
          "model_name": "ProgressStyleModel",
          "state": {
            "_view_name": "StyleView",
            "_model_name": "ProgressStyleModel",
            "description_width": "",
            "_view_module": "@jupyter-widgets/base",
            "_model_module_version": "1.5.0",
            "_view_count": null,
            "_view_module_version": "1.2.0",
            "bar_color": null,
            "_model_module": "@jupyter-widgets/controls"
          }
        },
        "db33b80f199343ffb26ff81f3d4cf09c": {
          "model_module": "@jupyter-widgets/base",
          "model_name": "LayoutModel",
          "state": {
            "_view_name": "LayoutView",
            "grid_template_rows": null,
            "right": null,
            "justify_content": null,
            "_view_module": "@jupyter-widgets/base",
            "overflow": null,
            "_model_module_version": "1.2.0",
            "_view_count": null,
            "flex_flow": null,
            "width": null,
            "min_width": null,
            "border": null,
            "align_items": null,
            "bottom": null,
            "_model_module": "@jupyter-widgets/base",
            "top": null,
            "grid_column": null,
            "overflow_y": null,
            "overflow_x": null,
            "grid_auto_flow": null,
            "grid_area": null,
            "grid_template_columns": null,
            "flex": null,
            "_model_name": "LayoutModel",
            "justify_items": null,
            "grid_row": null,
            "max_height": null,
            "align_content": null,
            "visibility": null,
            "align_self": null,
            "height": null,
            "min_height": null,
            "padding": null,
            "grid_auto_rows": null,
            "grid_gap": null,
            "max_width": null,
            "order": null,
            "_view_module_version": "1.2.0",
            "grid_template_areas": null,
            "object_position": null,
            "object_fit": null,
            "grid_auto_columns": null,
            "margin": null,
            "display": null,
            "left": null
          }
        },
        "c2f788b724664ac6a6a86d2e050b2255": {
          "model_module": "@jupyter-widgets/controls",
          "model_name": "DescriptionStyleModel",
          "state": {
            "_view_name": "StyleView",
            "_model_name": "DescriptionStyleModel",
            "description_width": "",
            "_view_module": "@jupyter-widgets/base",
            "_model_module_version": "1.5.0",
            "_view_count": null,
            "_view_module_version": "1.2.0",
            "_model_module": "@jupyter-widgets/controls"
          }
        },
        "56270b22211342178d0610b7e0a5e7c1": {
          "model_module": "@jupyter-widgets/base",
          "model_name": "LayoutModel",
          "state": {
            "_view_name": "LayoutView",
            "grid_template_rows": null,
            "right": null,
            "justify_content": null,
            "_view_module": "@jupyter-widgets/base",
            "overflow": null,
            "_model_module_version": "1.2.0",
            "_view_count": null,
            "flex_flow": null,
            "width": null,
            "min_width": null,
            "border": null,
            "align_items": null,
            "bottom": null,
            "_model_module": "@jupyter-widgets/base",
            "top": null,
            "grid_column": null,
            "overflow_y": null,
            "overflow_x": null,
            "grid_auto_flow": null,
            "grid_area": null,
            "grid_template_columns": null,
            "flex": null,
            "_model_name": "LayoutModel",
            "justify_items": null,
            "grid_row": null,
            "max_height": null,
            "align_content": null,
            "visibility": null,
            "align_self": null,
            "height": null,
            "min_height": null,
            "padding": null,
            "grid_auto_rows": null,
            "grid_gap": null,
            "max_width": null,
            "order": null,
            "_view_module_version": "1.2.0",
            "grid_template_areas": null,
            "object_position": null,
            "object_fit": null,
            "grid_auto_columns": null,
            "margin": null,
            "display": null,
            "left": null
          }
        }
      }
    },
    "colab": {
      "name": "reservoirNet (2).ipynb",
      "provenance": [],
      "collapsed_sections": []
    },
    "accelerator": "GPU"
  },
  "cells": [
    {
      "cell_type": "code",
      "metadata": {
        "id": "E9XpqxcfSDMG",
        "colab_type": "code",
        "outputId": "1a85f151-8235-4cdf-c2de-de46a0272db0",
        "colab": {
          "base_uri": "https://localhost:8080/",
          "height": 127
        }
      },
      "source": [
        "from google.colab import drive\n",
        "drive.mount('/content/drive')"
      ],
      "execution_count": 0,
      "outputs": [
        {
          "output_type": "stream",
          "text": [
            "Go to this URL in a browser: https://accounts.google.com/o/oauth2/auth?client_id=947318989803-6bn6qk8qdgf4n4g3pfee6491hc0brc4i.apps.googleusercontent.com&redirect_uri=urn%3aietf%3awg%3aoauth%3a2.0%3aoob&response_type=code&scope=email%20https%3a%2f%2fwww.googleapis.com%2fauth%2fdocs.test%20https%3a%2f%2fwww.googleapis.com%2fauth%2fdrive%20https%3a%2f%2fwww.googleapis.com%2fauth%2fdrive.photos.readonly%20https%3a%2f%2fwww.googleapis.com%2fauth%2fpeopleapi.readonly\n",
            "\n",
            "Enter your authorization code:\n",
            "··········\n",
            "Mounted at /content/drive\n"
          ],
          "name": "stdout"
        }
      ]
    },
    {
      "cell_type": "code",
      "metadata": {
        "id": "H5Fr1HrmSDxa",
        "colab_type": "code",
        "outputId": "84d612de-c1ad-4225-c959-5b4ffc8663a3",
        "colab": {
          "base_uri": "https://localhost:8080/",
          "height": 35
        }
      },
      "source": [
        "cd drive/My\\ Drive"
      ],
      "execution_count": 0,
      "outputs": [
        {
          "output_type": "stream",
          "text": [
            "/content/drive/My Drive/reservoirNet\n"
          ],
          "name": "stdout"
        }
      ]
    },
    {
      "cell_type": "code",
      "metadata": {
        "id": "qVqji5uesMXQ",
        "colab_type": "code",
        "outputId": "715427b7-f5f3-493c-cc87-eb4d7858c78c",
        "colab": {
          "base_uri": "https://localhost:8080/",
          "height": 881
        }
      },
      "source": [
        "!pip install bindsnet"
      ],
      "execution_count": 0,
      "outputs": [
        {
          "output_type": "stream",
          "text": [
            "Collecting bindsnet\n",
            "\u001b[?25l  Downloading https://files.pythonhosted.org/packages/6e/47/6eb9adae6a0d24a3f8ef5059192bfe035f0a3b1fd58ce9e30e9e8f74df9f/bindsnet-0.2.7.tar.gz (70kB)\n",
            "\u001b[K     |████████████████████████████████| 71kB 2.3MB/s \n",
            "\u001b[?25hRequirement already satisfied: numpy>=1.14.2 in /usr/local/lib/python3.6/dist-packages (from bindsnet) (1.17.5)\n",
            "Requirement already satisfied: torch>=1.2.0 in /usr/local/lib/python3.6/dist-packages (from bindsnet) (1.4.0)\n",
            "Requirement already satisfied: torchvision>=0.4.0 in /usr/local/lib/python3.6/dist-packages (from bindsnet) (0.5.0)\n",
            "Collecting tensorboardX>=1.7\n",
            "\u001b[?25l  Downloading https://files.pythonhosted.org/packages/35/f1/5843425495765c8c2dd0784a851a93ef204d314fc87bcc2bbb9f662a3ad1/tensorboardX-2.0-py2.py3-none-any.whl (195kB)\n",
            "\u001b[K     |████████████████████████████████| 204kB 8.0MB/s \n",
            "\u001b[?25hRequirement already satisfied: tqdm>=4.19.9 in /usr/local/lib/python3.6/dist-packages (from bindsnet) (4.28.1)\n",
            "Requirement already satisfied: matplotlib>=2.1.0 in /usr/local/lib/python3.6/dist-packages (from bindsnet) (3.1.3)\n",
            "Requirement already satisfied: gym>=0.10.4 in /usr/local/lib/python3.6/dist-packages (from bindsnet) (0.15.6)\n",
            "Requirement already satisfied: scikit_image>=0.13.1 in /usr/local/lib/python3.6/dist-packages (from bindsnet) (0.16.2)\n",
            "Requirement already satisfied: scikit_learn>=0.19.1 in /usr/local/lib/python3.6/dist-packages (from bindsnet) (0.22.1)\n",
            "Requirement already satisfied: opencv-python>=3.4.0.12 in /usr/local/lib/python3.6/dist-packages (from bindsnet) (4.1.2.30)\n",
            "Requirement already satisfied: pytest>=3.4.0 in /usr/local/lib/python3.6/dist-packages (from bindsnet) (3.6.4)\n",
            "Requirement already satisfied: scipy>=1.1.0 in /usr/local/lib/python3.6/dist-packages (from bindsnet) (1.4.1)\n",
            "Requirement already satisfied: cython>=0.28.5 in /usr/local/lib/python3.6/dist-packages (from bindsnet) (0.29.15)\n",
            "Requirement already satisfied: pandas>=0.23.4 in /usr/local/lib/python3.6/dist-packages (from bindsnet) (0.25.3)\n",
            "Requirement already satisfied: pillow>=4.1.1 in /usr/local/lib/python3.6/dist-packages (from torchvision>=0.4.0->bindsnet) (6.2.2)\n",
            "Requirement already satisfied: six in /usr/local/lib/python3.6/dist-packages (from torchvision>=0.4.0->bindsnet) (1.12.0)\n",
            "Requirement already satisfied: protobuf>=3.8.0 in /usr/local/lib/python3.6/dist-packages (from tensorboardX>=1.7->bindsnet) (3.10.0)\n",
            "Requirement already satisfied: kiwisolver>=1.0.1 in /usr/local/lib/python3.6/dist-packages (from matplotlib>=2.1.0->bindsnet) (1.1.0)\n",
            "Requirement already satisfied: cycler>=0.10 in /usr/local/lib/python3.6/dist-packages (from matplotlib>=2.1.0->bindsnet) (0.10.0)\n",
            "Requirement already satisfied: python-dateutil>=2.1 in /usr/local/lib/python3.6/dist-packages (from matplotlib>=2.1.0->bindsnet) (2.6.1)\n",
            "Requirement already satisfied: pyparsing!=2.0.4,!=2.1.2,!=2.1.6,>=2.0.1 in /usr/local/lib/python3.6/dist-packages (from matplotlib>=2.1.0->bindsnet) (2.4.6)\n",
            "Requirement already satisfied: cloudpickle~=1.2.0 in /usr/local/lib/python3.6/dist-packages (from gym>=0.10.4->bindsnet) (1.2.2)\n",
            "Requirement already satisfied: pyglet<=1.5.0,>=1.4.0 in /usr/local/lib/python3.6/dist-packages (from gym>=0.10.4->bindsnet) (1.4.10)\n",
            "Requirement already satisfied: PyWavelets>=0.4.0 in /usr/local/lib/python3.6/dist-packages (from scikit_image>=0.13.1->bindsnet) (1.1.1)\n",
            "Requirement already satisfied: imageio>=2.3.0 in /usr/local/lib/python3.6/dist-packages (from scikit_image>=0.13.1->bindsnet) (2.4.1)\n",
            "Requirement already satisfied: networkx>=2.0 in /usr/local/lib/python3.6/dist-packages (from scikit_image>=0.13.1->bindsnet) (2.4)\n",
            "Requirement already satisfied: joblib>=0.11 in /usr/local/lib/python3.6/dist-packages (from scikit_learn>=0.19.1->bindsnet) (0.14.1)\n",
            "Requirement already satisfied: setuptools in /usr/local/lib/python3.6/dist-packages (from pytest>=3.4.0->bindsnet) (45.2.0)\n",
            "Requirement already satisfied: atomicwrites>=1.0 in /usr/local/lib/python3.6/dist-packages (from pytest>=3.4.0->bindsnet) (1.3.0)\n",
            "Requirement already satisfied: py>=1.5.0 in /usr/local/lib/python3.6/dist-packages (from pytest>=3.4.0->bindsnet) (1.8.1)\n",
            "Requirement already satisfied: more-itertools>=4.0.0 in /usr/local/lib/python3.6/dist-packages (from pytest>=3.4.0->bindsnet) (8.2.0)\n",
            "Requirement already satisfied: attrs>=17.4.0 in /usr/local/lib/python3.6/dist-packages (from pytest>=3.4.0->bindsnet) (19.3.0)\n",
            "Requirement already satisfied: pluggy<0.8,>=0.5 in /usr/local/lib/python3.6/dist-packages (from pytest>=3.4.0->bindsnet) (0.7.1)\n",
            "Requirement already satisfied: pytz>=2017.2 in /usr/local/lib/python3.6/dist-packages (from pandas>=0.23.4->bindsnet) (2018.9)\n",
            "Requirement already satisfied: future in /usr/local/lib/python3.6/dist-packages (from pyglet<=1.5.0,>=1.4.0->gym>=0.10.4->bindsnet) (0.16.0)\n",
            "Requirement already satisfied: decorator>=4.3.0 in /usr/local/lib/python3.6/dist-packages (from networkx>=2.0->scikit_image>=0.13.1->bindsnet) (4.4.1)\n",
            "Building wheels for collected packages: bindsnet\n",
            "  Building wheel for bindsnet (setup.py) ... \u001b[?25l\u001b[?25hdone\n",
            "  Created wheel for bindsnet: filename=bindsnet-0.2.7-cp36-none-any.whl size=81417 sha256=38ff64ffe11e456d9eefc86f672e185b1639f27bdb86b310bf3cd46c6325b636\n",
            "  Stored in directory: /root/.cache/pip/wheels/d3/68/80/eca244a3d072961b5152d5906475ffc9d9b2453c9e060535e3\n",
            "Successfully built bindsnet\n",
            "Installing collected packages: tensorboardX, bindsnet\n",
            "Successfully installed bindsnet-0.2.7 tensorboardX-2.0\n"
          ],
          "name": "stdout"
        }
      ]
    },
    {
      "cell_type": "code",
      "metadata": {
        "id": "N1RJPs4dNBsY",
        "colab_type": "code",
        "colab": {}
      },
      "source": [
        "import os\n",
        "import numpy as np\n",
        "import pandas as pd\n",
        "import torch\n",
        "import torch.nn as nn\n",
        "import argparse\n",
        "import matplotlib.pyplot as plt\n",
        "\n",
        "from torchvision import transforms\n",
        "from tqdm import tqdm_notebook as tqdm\n",
        "from bindsnet.analysis.plotting import (\n",
        "    plot_input,\n",
        "    plot_spikes,\n",
        "    plot_voltages,\n",
        "    plot_weights,\n",
        ")\n",
        "from bindsnet.datasets import MNIST\n",
        "from bindsnet.encoding import PoissonEncoder\n",
        "from bindsnet.network import Network\n",
        "from bindsnet.network.nodes import Input\n",
        "\n",
        "# Build a simple two-layer, input-output network.\n",
        "from bindsnet.network.monitors import Monitor\n",
        "from bindsnet.network.nodes import LIFNodes\n",
        "from bindsnet.network.topology import Connection\n",
        "from bindsnet.utils import get_square_weights\n",
        "\n",
        "import easydict"
      ],
      "execution_count": 0,
      "outputs": []
    },
    {
      "cell_type": "code",
      "metadata": {
        "id": "5eJjUiup_Bxb",
        "colab_type": "code",
        "colab": {}
      },
      "source": [
        "args = easydict.EasyDict({\n",
        "        \"seed\": 0,\n",
        "        \"n_neurons\": 500,\n",
        "        \"n_epochs\": 75,\n",
        "        \"n_examples\": 1000,\n",
        "        \"n_workers\": -1,\n",
        "        \"time\": 251,\n",
        "        \"dt\": 1.0,\n",
        "        \"intensity\": 64,\n",
        "        \"progress_interval\": 10,\n",
        "        \"update_interval\": 250,\n",
        "        \"gpu\": True,\n",
        "        \"device_id\": 0,\n",
        "        \"train\": True\n",
        "})"
      ],
      "execution_count": 0,
      "outputs": []
    },
    {
      "cell_type": "code",
      "metadata": {
        "id": "5d4aAgJamR-t",
        "colab_type": "code",
        "colab": {}
      },
      "source": [
        "seed = args.seed\n",
        "n_neurons = args.n_neurons\n",
        "n_epochs = args.n_epochs\n",
        "n_examples = args.n_examples\n",
        "n_workers = args.n_workers\n",
        "time = args.time\n",
        "dt = args.dt\n",
        "intensity = args.intensity\n",
        "progress_interval = args.progress_interval\n",
        "update_interval = args.update_interval\n",
        "train = args.train\n",
        "gpu = args.gpu\n",
        "device_id = args.device_id\n",
        "n_iters = n_examples\n",
        "\n",
        "np.random.seed(seed)\n",
        "torch.cuda.manual_seed_all(seed)\n",
        "torch.manual_seed(seed)\n",
        "\n",
        "# Sets up Gpu use\n",
        "if gpu and torch.cuda.is_available():\n",
        "    torch.cuda.set_device(device_id)\n",
        "    # torch.set_default_tensor_type('torch.cuda.FloatTensor')\n",
        "else:\n",
        "    torch.manual_seed(seed)"
      ],
      "execution_count": 0,
      "outputs": []
    },
    {
      "cell_type": "code",
      "metadata": {
        "_cell_guid": "79c7e3d0-c299-4dcb-8224-4455121ee9b0",
        "_uuid": "d629ff2d2480ee46fbb7e2d37f6b5fab8052498a",
        "id": "RtYydfQ6sMXZ",
        "colab_type": "code",
        "outputId": "d5ec6a89-0479-4906-aebf-780bef8f11e4",
        "colab": {
          "base_uri": "https://localhost:8080/",
          "height": 67,
          "referenced_widgets": [
            "901e62ee42c04f3583d588e8c40a2c82",
            "df0647d2b1c04702ba54e073bee74e0c",
            "8e5a47d7dcd6426a8023592026f79064",
            "33e6f453905e4c539c6aee2fdb68743a",
            "8b9ea1b98fa04928bd9938b9d661413d",
            "a6b2c88603504f04920465a0fc79f915",
            "8a6779d14498467b82aa048c062d7144",
            "72f7bae058a34b73af9ee1ddb6cd322e"
          ]
        }
      },
      "source": [
        "# dt: the simulation time step\n",
        "network = Network(dt=dt)\n",
        "\n",
        "# 入力層\n",
        "inpt = Input(2, shape=(1,2))\n",
        "network.add_layer(inpt, name=\"I\")\n",
        "\n",
        "# リザーバー層\n",
        "output = LIFNodes(n_neurons, thresh=-52 + np.random.randn(n_neurons).astype(float))\n",
        "network.add_layer(output, name=\"O\")\n",
        "\n",
        "# 入力層->リザーバー層とリザーバー層->リザーバー層のコネクションを作成\n",
        "C1 = Connection(source=inpt, target=output, w=torch.randn(inpt.n, output.n))\n",
        "C2 = Connection(source=output, target=output, w=torch.randn(output.n, output.n))\n",
        "network.add_connection(C1, source=\"I\", target=\"O\")\n",
        "network.add_connection(C2, source=\"O\", target=\"O\")\n",
        "\n",
        "# スパイクのモニター(入力、リザーバー)\n",
        "spikes = {}\n",
        "for l in network.layers:\n",
        "    spikes[l] = Monitor(network.layers[l], [\"s\"], time=time)\n",
        "    network.add_monitor(spikes[l], name=\"%s_spikes\" % l)\n",
        "\n",
        "# ボルトのモニター(リザーバー)\n",
        "voltages = {\"O\": Monitor(network.layers[\"O\"], [\"v\"], time=time)}\n",
        "network.add_monitor(voltages[\"O\"], name=\"O_voltages\")\n",
        "\n",
        "# Directs network to GPU\n",
        "if gpu:\n",
        "    network.to(\"cuda\")\n",
        "\n",
        "# dataset作成\n",
        "class MyDataset(torch.utils.data.Dataset):\n",
        "    # xy.shape = (n, time, xy)\n",
        "    # F.shape = (n, time, F)\n",
        "    def __init__(self, xy, F, transform=None):\n",
        "        self.transform = transform\n",
        "        self.data_num = xy.shape[0]\n",
        "        self.data = xy\n",
        "        self.label = F\n",
        "\n",
        "    def __len__(self):\n",
        "        return self.data_num\n",
        "\n",
        "    def __getitem__(self, idx):\n",
        "        out_data = self.data[idx]\n",
        "        out_label =  self.label[idx]\n",
        "\n",
        "        if self.transform:\n",
        "            out_data = self.transform(out_data)\n",
        "\n",
        "        return out_data, out_label\n",
        "\n",
        "train_data = pd.read_csv(\"train_data.csv\", header = None)\n",
        "train_data = np.array(train_data)\n",
        "train_data = train_data.reshape((1000,251,4))\n",
        "# from IPython.core.debugger import Pdb; Pdb().set_trace()\n",
        "xy = train_data[:900,:,0:2]\n",
        "F = train_data[:900,:,2:4]\n",
        "dataset = MyDataset(xy, F, transform=None)\n",
        "\n",
        "# Create a dataloader to iterate and batch data\n",
        "dataloader = torch.utils.data.DataLoader(\n",
        "    dataset, batch_size=1, shuffle=True, num_workers=0, pin_memory=gpu\n",
        ")\n",
        "\n",
        "# Run training data on reservoir computer and store (spikes per neuron, label) per example.\n",
        "train_pairs = []\n",
        "pbar = tqdm(enumerate(dataloader))\n",
        "\n",
        "# \n",
        "# このループではトレーニングデータを作成していると考えて良い\n",
        "# q = int((bs-1)/2)\n",
        "for (i, dataPoint) in pbar:\n",
        "    # data, labelを取り出している\n",
        "    datum = dataPoint[0].view(time, 2).to(device_id)\n",
        "    label = dataPoint[1].view(time, 2)\n",
        "    pbar.set_description_str(\"Train progress: (%d / %d)\" % (i, n_iters))\n",
        "    # 時間を1つ進める\n",
        "    for j in range(50):\n",
        "      network.run(inputs={\"I\": datum[0]}, time=1, input_time_dim=1)\n",
        "    for j in range(251):\n",
        "      network.run(inputs={\"I\": datum[0]}, time=1, input_time_dim=1)\n",
        "#      # リザーバー層の状態とラベルをトレーニングデータとして保存\n",
        "      train_pairs.append([spikes[\"O\"].get(\"s\").sum(0), label[j]])\n",
        "      network.run(inputs={\"I\": datum[0]}, time=1, input_time_dim=1)\n",
        "#      for l in range(3):\n",
        "#        network.run(inputs={\"I\": datum[0]}, time=1, input_time_dim=1)\n",
        "      #network.run(inputs={\"I\": datum[0]}, time=1, input_time_dim=1)\n",
        "#    network.run(inputs={\"I\": datum}, time=251, input_time_dim=1)\n",
        "#    train_pairs.append([spikes[\"O\"].get(\"s\").sum(0), label])\n",
        "    network.reset_state_variables()\n",
        "#const = torch.tensor([1]).to(device_id)\n",
        "#for j in range(len(train_pairs)):\n",
        "#  train_pairs[j][0] = torch.cat([train_pairs[j][0][0],const])\n",
        "np.save(\"training_pairs\", train_pairs)\n",
        "# Define logistic regression model using PyTorch."
      ],
      "execution_count": 0,
      "outputs": [
        {
          "output_type": "display_data",
          "data": {
            "application/vnd.jupyter.widget-view+json": {
              "model_id": "901e62ee42c04f3583d588e8c40a2c82",
              "version_minor": 0,
              "version_major": 2
            },
            "text/plain": [
              "HBox(children=(IntProgress(value=1, bar_style='info', max=1), HTML(value='')))"
            ]
          },
          "metadata": {
            "tags": []
          }
        },
        {
          "output_type": "stream",
          "text": [
            "\n"
          ],
          "name": "stdout"
        }
      ]
    },
    {
      "cell_type": "code",
      "metadata": {
        "id": "4EbaUqtm97zb",
        "colab_type": "code",
        "outputId": "5edac80a-1d3a-4de3-a554-b20b63d8f19a",
        "colab": {
          "base_uri": "https://localhost:8080/",
          "height": 67,
          "referenced_widgets": [
            "be15cc4d21334a99be161a800d4a6e9e",
            "18dde3d2451a4d2abd87c1a07b96b178",
            "50b000ecf3c74e19bc144a5c80bc1335",
            "cad2b20dd0da4379a29c144348026b52",
            "78c1ce6bfde44a3a8db711a9456e2fd0",
            "d90bc20421774ae7aaeccdd59e821f31",
            "c7ad52c85340456da5efac73a78aeda7",
            "0e418bd6f5a24254b3dd187fa83a4043"
          ]
        }
      },
      "source": [
        "xy = train_data[900:,:,0:2]\n",
        "F = train_data[900:,:,2:4]\n",
        "dataset = MyDataset(xy, F, transform=None)\n",
        "\n",
        "# Create a dataloader to iterate and batch data\n",
        "dataloader = torch.utils.data.DataLoader(\n",
        "    dataset, batch_size=1, shuffle=True, num_workers=0, pin_memory=gpu\n",
        ")\n",
        "\n",
        "# Run training data on reservoir computer and store (spikes per neuron, label) per example.\n",
        "test_pairs = []\n",
        "pbar = tqdm(enumerate(dataloader))\n",
        "\n",
        "# \n",
        "# このループではトレーニングデータを作成していると考えて良い\n",
        "# q = int((bs-1)/2)\n",
        "for (i, dataPoint) in pbar:\n",
        "    # data, labelを取り出している\n",
        "    datum = dataPoint[0].view(time, 2).to(device_id)\n",
        "    label = dataPoint[1].view(time, 2)\n",
        "    pbar.set_description_str(\"Train progress: (%d / %d)\" % (i, n_iters))\n",
        "    # 時間を1つ進める\n",
        "    for j in range(50):\n",
        "      network.run(inputs={\"I\": datum[0]}, time=1, input_time_dim=1)\n",
        "    for j in range(251):\n",
        "      network.run(inputs={\"I\": datum[0]}, time=1, input_time_dim=1)\n",
        "#      # リザーバー層の状態とラベルをトレーニングデータとして保存\n",
        "      test_pairs.append([spikes[\"O\"].get(\"s\").sum(0), label[j]])\n",
        "      network.run(inputs={\"I\": datum[0]}, time=1, input_time_dim=1)\n",
        "#      for l in range(3):\n",
        "#        network.run(inputs={\"I\": datum[0]}, time=1, input_time_dim=1)\n",
        "      #network.run(inputs={\"I\": datum[0]}, time=1, input_time_dim=1)\n",
        "#    network.run(inputs={\"I\": datum}, time=251, input_time_dim=1)\n",
        "#    test_pairs.append([spikes[\"O\"].get(\"s\").sum(0), label])\n",
        "    network.reset_state_variables()\n",
        "#const = torch.tensor([1]).to(device_id)\n",
        "#for j in range(len(test_pairs)):\n",
        "#  test_pairs[j][0] = torch.cat([test_pairs[j][0][0],const])\n",
        "np.save(\"test_pairs\", test_pairs)\n",
        "# Define logistic regression model using PyTorch."
      ],
      "execution_count": 0,
      "outputs": [
        {
          "output_type": "display_data",
          "data": {
            "application/vnd.jupyter.widget-view+json": {
              "model_id": "be15cc4d21334a99be161a800d4a6e9e",
              "version_minor": 0,
              "version_major": 2
            },
            "text/plain": [
              "HBox(children=(IntProgress(value=1, bar_style='info', max=1), HTML(value='')))"
            ]
          },
          "metadata": {
            "tags": []
          }
        },
        {
          "output_type": "stream",
          "text": [
            "\n"
          ],
          "name": "stdout"
        }
      ]
    },
    {
      "cell_type": "code",
      "metadata": {
        "id": "I5S-3s9ZoHIN",
        "colab_type": "code",
        "outputId": "8bbfc7e4-bc01-4faf-f5f3-d13d8df8b072",
        "colab": {
          "base_uri": "https://localhost:8080/",
          "height": 141,
          "referenced_widgets": [
            "a887d651f7f14b85947082b5bf02ef37",
            "9e2030504a4a4412a44ddfe83c4c9ed4",
            "969f2e09fb7048279e3e4864d00f4d53",
            "fb6e9986b30f45eaa00ef8187a9a2cf5",
            "b4b5f15785ef4cd699cf4bdf0176ca1d",
            "db33b80f199343ffb26ff81f3d4cf09c",
            "c2f788b724664ac6a6a86d2e050b2255",
            "56270b22211342178d0610b7e0a5e7c1"
          ]
        }
      },
      "source": [
        "training_pairs = np.load(\"training_pairs.npy\", allow_pickle=True)\n",
        "# 回帰モデル\n",
        "class NN(nn.Module):\n",
        "    def __init__(self, input_size):\n",
        "        super(NN, self).__init__()\n",
        "        self.linear_1 = nn.Linear(input_size, 500)\n",
        "        self.linear_2 = nn.Linear(500, 2)\n",
        "        self.dropout1 = nn.Dropout(p=0.5)\n",
        "        self.dropout2 = nn.Dropout(p=0.5)\n",
        "        # self.linear = nn.Linear(input_size, 2)\n",
        "\n",
        "    def forward(self, x):\n",
        "        out = self.dropout1(x.float().view(-1))\n",
        "        out = torch.relu(self.linear_1(out))\n",
        "        out = self.dropout2(out)\n",
        "        out = self.linear_2(out)\n",
        "        return out\n",
        "\n",
        "# Create and train logistic regression model on reservoir outputs.\n",
        "model = NN(n_neurons).to(device_id)\n",
        "criterion = torch.nn.MSELoss(reduction=\"sum\")\n",
        "# optimizer = torch.optim.SGD(model.parameters(), lr=1e-4, momentum=0.9)\n",
        "optimizer = torch.optim.Adam(model.parameters(), lr=1e-4, betas=(0.5, 0.999))\n",
        "\n",
        "# Training the Model\n",
        "# 回帰モデルを先ほど生成したデータでトレーニング\n",
        "print(\"\\n Training the read out\")\n",
        "model.train()\n",
        "# model.load_state_dict(torch.load(\"model\"))\n",
        "pbar = tqdm(enumerate(range(n_epochs)))\n",
        "for epoch, _ in pbar:\n",
        "    avg_loss = 0\n",
        "    for i, (s, l) in enumerate(training_pairs):\n",
        "        # Forward + Backward + Optimize\n",
        "        optimizer.zero_grad()\n",
        "        outputs = model(s.view(-1))\n",
        "        label = l.float().to(device_id)\n",
        "        loss = criterion(outputs, label)\n",
        "        avg_loss += loss.data\n",
        "        loss.backward()\n",
        "        optimizer.step()\n",
        "    pbar.set_description_str(\n",
        "        \"Epoch: %d/%d, Loss: %.4f\"\n",
        "        % (epoch + 1, n_epochs, avg_loss / len(training_pairs))\n",
        "    )\n",
        "\n",
        "torch.save(model.state_dict(), \"model\")\n",
        "\"\"\"\n",
        "test_pairs = []\n",
        "pbar = tqdm(enumerate(dataloader))\n",
        "for (i, dataPoint) in pbar:\n",
        "    datum = dataPoint[0].view(time, 2)\n",
        "    labels = dataPoint[1].view(time, 2)\n",
        "    pbar.set_description_str(\"Testing progress: (%d / %d)\" % (i, n_iters))\n",
        "\n",
        "    for j in range(q, datum.shape[0]-q):\n",
        "        data = datum[ j-q : j+q+1 ].to(device_id)\n",
        "        data = data[np.newaxis,np.newaxis,:,:]\n",
        "        label = labels[j]\n",
        "        # 時間を1つ進める\n",
        "        network.run(inputs={\"I\": data}, time=1, input_time_dim=1)\n",
        "        # リザーバー層の状態とラベルをトレーニングデータとして保存\n",
        "        test_pairs.append([spikes[\"O\"].get(\"s\").sum(0), label])\n",
        "\n",
        "    network.reset_state_variables()\n",
        "\n",
        "np.save(\"test_pairs\", test_pairs)\n",
        "\"\"\"\n",
        "# test_pairs = np.load(\"test_pairs.npy\", allow_pickle=True)"
      ],
      "execution_count": 0,
      "outputs": [
        {
          "output_type": "stream",
          "text": [
            "\n",
            " Training the read out\n"
          ],
          "name": "stdout"
        },
        {
          "output_type": "display_data",
          "data": {
            "application/vnd.jupyter.widget-view+json": {
              "model_id": "a887d651f7f14b85947082b5bf02ef37",
              "version_minor": 0,
              "version_major": 2
            },
            "text/plain": [
              "HBox(children=(IntProgress(value=1, bar_style='info', max=1), HTML(value='')))"
            ]
          },
          "metadata": {
            "tags": []
          }
        },
        {
          "output_type": "stream",
          "text": [
            "\n"
          ],
          "name": "stdout"
        },
        {
          "output_type": "execute_result",
          "data": {
            "text/plain": [
              "'\\ntest_pairs = []\\npbar = tqdm(enumerate(dataloader))\\nfor (i, dataPoint) in pbar:\\n    datum = dataPoint[0].view(time, 2)\\n    labels = dataPoint[1].view(time, 2)\\n    pbar.set_description_str(\"Testing progress: (%d / %d)\" % (i, n_iters))\\n\\n    for j in range(q, datum.shape[0]-q):\\n        data = datum[ j-q : j+q+1 ].to(device_id)\\n        data = data[np.newaxis,np.newaxis,:,:]\\n        label = labels[j]\\n        # 時間を1つ進める\\n        network.run(inputs={\"I\": data}, time=1, input_time_dim=1)\\n        # リザーバー層の状態とラベルをトレーニングデータとして保存\\n        test_pairs.append([spikes[\"O\"].get(\"s\").sum(0), label])\\n\\n    network.reset_state_variables()\\n\\nnp.save(\"test_pairs\", test_pairs)\\n'"
            ]
          },
          "metadata": {
            "tags": []
          },
          "execution_count": 7
        }
      ]
    },
    {
      "cell_type": "code",
      "metadata": {
        "id": "FSryFpilpDv_",
        "colab_type": "code",
        "colab": {}
      },
      "source": [
        "model.eval()\n",
        "loss, total = 0, 0\n",
        "k = 0\n",
        "test_pairs = np.load(\"test_pairs.npy\", allow_pickle=True)\n",
        "outs = np.zeros([251,2])\n",
        "labels = np.zeros([251,2])\n",
        "for s, label in test_pairs:\n",
        "    k += 1\n",
        "    outputs = model(s)\n",
        "    outs[k-1,:] = np.array(outputs.cpu().detach().numpy())\n",
        "    labels[k-1,:] = np.array(label.cpu().detach().numpy())\n",
        "    loss += criterion(outputs, label.float().to(device_id)).data\n",
        "    total += 1\n",
        "    #if k == 251:\n",
        "    #  break"
      ],
      "execution_count": 0,
      "outputs": []
    },
    {
      "cell_type": "code",
      "metadata": {
        "id": "xUrabBO08Bb8",
        "colab_type": "code",
        "outputId": "b7908209-0324-4560-8f7e-413022a7520a",
        "colab": {
          "base_uri": "https://localhost:8080/",
          "height": 552
        }
      },
      "source": [
        "plt.figure(dpi=150)\n",
        "plt.plot(outs[:,0])\n",
        "plt.plot(labels[:,0])"
      ],
      "execution_count": 0,
      "outputs": [
        {
          "output_type": "execute_result",
          "data": {
            "text/plain": [
              "[<matplotlib.lines.Line2D at 0x7faeb6cbf2e8>]"
            ]
          },
          "metadata": {
            "tags": []
          },
          "execution_count": 10
        },
        {
          "output_type": "display_data",
          "data": {
            "image/png": "[encoded data removed]",
            "text/plain": [
              "<Figure size 900x600 with 1 Axes>"
            ]
          },
          "metadata": {
            "tags": []
          }
        }
      ]
    },
    {
      "cell_type": "code",
      "metadata": {
        "id": "ZBNtlkrf8IGl",
        "colab_type": "code",
        "outputId": "3ac0a9d3-e252-4499-8900-68da6e02ab57",
        "colab": {
          "base_uri": "https://localhost:8080/",
          "height": 552
        }
      },
      "source": [
        "plt.figure(dpi=150)\n",
        "plt.plot(outs[:,1])\n",
        "plt.plot(labels[:,1])"
      ],
      "execution_count": 0,
      "outputs": [
        {
          "output_type": "execute_result",
          "data": {
            "text/plain": [
              "[<matplotlib.lines.Line2D at 0x7faea29d1cf8>]"
            ]
          },
          "metadata": {
            "tags": []
          },
          "execution_count": 11
        },
        {
          "output_type": "display_data",
          "data": {
            "image/png": "[encoded data removed]",
            "text/plain": [
              "<Figure size 900x600 with 1 Axes>"
            ]
          },
          "metadata": {
            "tags": []
          }
        }
      ]
    },
    {
      "cell_type": "code",
      "metadata": {
        "id": "hllb0D9emNcw",
        "colab_type": "code",
        "outputId": "664180f8-28cb-40e4-9e1e-08e0ed10ce49",
        "colab": {
          "base_uri": "https://localhost:8080/",
          "height": 190
        }
      },
      "source": [
        "np.savetxt(\"test.csv\",outs)\n",
        "np.savetxt(\"ans.csv\",labels)"
      ],
      "execution_count": 0,
      "outputs": [
        {
          "output_type": "error",
          "ename": "NameError",
          "evalue": "ignored",
          "traceback": [
            "\u001b[0;31m---------------------------------------------------------------------------\u001b[0m",
            "\u001b[0;31mNameError\u001b[0m                                 Traceback (most recent call last)",
            "\u001b[0;32m<ipython-input-1-51a6074fbc84>\u001b[0m in \u001b[0;36m<module>\u001b[0;34m()\u001b[0m\n\u001b[0;32m----> 1\u001b[0;31m \u001b[0mnp\u001b[0m\u001b[0;34m.\u001b[0m\u001b[0msavetxt\u001b[0m\u001b[0;34m(\u001b[0m\u001b[0;34m\"test.csv\"\u001b[0m\u001b[0;34m,\u001b[0m\u001b[0mouts\u001b[0m\u001b[0;34m)\u001b[0m\u001b[0;34m\u001b[0m\u001b[0;34m\u001b[0m\u001b[0m\n\u001b[0m\u001b[1;32m      2\u001b[0m \u001b[0mnp\u001b[0m\u001b[0;34m.\u001b[0m\u001b[0msavetxt\u001b[0m\u001b[0;34m(\u001b[0m\u001b[0;34m\"ans.csv\"\u001b[0m\u001b[0;34m,\u001b[0m\u001b[0mlabels\u001b[0m\u001b[0;34m)\u001b[0m\u001b[0;34m\u001b[0m\u001b[0;34m\u001b[0m\u001b[0m\n",
            "\u001b[0;31mNameError\u001b[0m: name 'np' is not defined"
          ]
        }
      ]
    },
    {
      "cell_type": "code",
      "metadata": {
        "id": "Jp7PLHjy9UFr",
        "colab_type": "code",
        "colab": {}
      },
      "source": [
        "outs"
      ],
      "execution_count": 0,
      "outputs": []
    },
    {
      "cell_type": "code",
      "metadata": {
        "colab_type": "code",
        "id": "Y_LCEC56lZkP",
        "colab": {}
      },
      "source": [
        "np.save(\"training_pairs\", training_pairs)\n",
        "np.save(\"test_pairs\", test_pairs)"
      ],
      "execution_count": 0,
      "outputs": []
    }
  ]
}