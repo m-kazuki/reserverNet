<<<<<<< HEAD
{"nbformat":4,"nbformat_minor":0,"metadata":{"kernelspec":{"name":"python3","display_name":"Python 3"},"language_info":{"codemirror_mode":{"name":"ipython","version":3},"file_extension":".py","mimetype":"text/x-python","name":"python","nbconvert_exporter":"python","pygments_lexer":"ipython3","version":"3.6.6"},"widgets":{"application/vnd.jupyter.widget-state+json":{"ac34d12fe5c747dfb377f2bd0837e5e8":{"model_module":"@jupyter-widgets/controls","model_name":"HBoxModel","state":{"_view_name":"HBoxView","_dom_classes":[],"_model_name":"HBoxModel","_view_module":"@jupyter-widgets/controls","_model_module_version":"1.5.0","_view_count":null,"_view_module_version":"1.5.0","box_style":"","layout":"IPY_MODEL_4057f889c9dc4d428b4a20e17b36c90b","_model_module":"@jupyter-widgets/controls","children":["IPY_MODEL_6ac5b421ecda472b809ccd103997e2b6","IPY_MODEL_f62396a360f44ac4ac74b587a8bfb97b"]}},"4057f889c9dc4d428b4a20e17b36c90b":{"model_module":"@jupyter-widgets/base","model_name":"LayoutModel","state":{"_view_name":"LayoutView","grid_template_rows":null,"right":null,"justify_content":null,"_view_module":"@jupyter-widgets/base","overflow":null,"_model_module_version":"1.2.0","_view_count":null,"flex_flow":null,"width":null,"min_width":null,"border":null,"align_items":null,"bottom":null,"_model_module":"@jupyter-widgets/base","top":null,"grid_column":null,"overflow_y":null,"overflow_x":null,"grid_auto_flow":null,"grid_area":null,"grid_template_columns":null,"flex":null,"_model_name":"LayoutModel","justify_items":null,"grid_row":null,"max_height":null,"align_content":null,"visibility":null,"align_self":null,"height":null,"min_height":null,"padding":null,"grid_auto_rows":null,"grid_gap":null,"max_width":null,"order":null,"_view_module_version":"1.2.0","grid_template_areas":null,"object_position":null,"object_fit":null,"grid_auto_columns":null,"margin":null,"display":null,"left":null}},"6ac5b421ecda472b809ccd103997e2b6":{"model_module":"@jupyter-widgets/controls","model_name":"IntProgressModel","state":{"_view_name":"ProgressView","style":"IPY_MODEL_218380843d37478d9ea93fc9d1fe2159","_dom_classes":[],"description":"","_model_name":"IntProgressModel","bar_style":"success","max":1,"_view_module":"@jupyter-widgets/controls","_model_module_version":"1.5.0","value":1,"_view_count":null,"_view_module_version":"1.5.0","orientation":"horizontal","min":0,"description_tooltip":null,"_model_module":"@jupyter-widgets/controls","layout":"IPY_MODEL_6d69eddaf8b240599453ec5a59eebd9e"}},"f62396a360f44ac4ac74b587a8bfb97b":{"model_module":"@jupyter-widgets/controls","model_name":"HTMLModel","state":{"_view_name":"HTMLView","style":"IPY_MODEL_6631bd48468a490eb4668a085ff95336","_dom_classes":[],"description":"","_model_name":"HTMLModel","placeholder":"​","_view_module":"@jupyter-widgets/controls","_model_module_version":"1.5.0","value":"Train progress: (9 / 1000): 10it [00:02,  3.43it/s]","_view_count":null,"_view_module_version":"1.5.0","description_tooltip":null,"_model_module":"@jupyter-widgets/controls","layout":"IPY_MODEL_38d48a58f6fc467eb9e503ce251dcb6c"}},"218380843d37478d9ea93fc9d1fe2159":{"model_module":"@jupyter-widgets/controls","model_name":"ProgressStyleModel","state":{"_view_name":"StyleView","_model_name":"ProgressStyleModel","description_width":"","_view_module":"@jupyter-widgets/base","_model_module_version":"1.5.0","_view_count":null,"_view_module_version":"1.2.0","bar_color":null,"_model_module":"@jupyter-widgets/controls"}},"6d69eddaf8b240599453ec5a59eebd9e":{"model_module":"@jupyter-widgets/base","model_name":"LayoutModel","state":{"_view_name":"LayoutView","grid_template_rows":null,"right":null,"justify_content":null,"_view_module":"@jupyter-widgets/base","overflow":null,"_model_module_version":"1.2.0","_view_count":null,"flex_flow":null,"width":null,"min_width":null,"border":null,"align_items":null,"bottom":null,"_model_module":"@jupyter-widgets/base","top":null,"grid_column":null,"overflow_y":null,"overflow_x":null,"grid_auto_flow":null,"grid_area":null,"grid_template_columns":null,"flex":null,"_model_name":"LayoutModel","justify_items":null,"grid_row":null,"max_height":null,"align_content":null,"visibility":null,"align_self":null,"height":null,"min_height":null,"padding":null,"grid_auto_rows":null,"grid_gap":null,"max_width":null,"order":null,"_view_module_version":"1.2.0","grid_template_areas":null,"object_position":null,"object_fit":null,"grid_auto_columns":null,"margin":null,"display":null,"left":null}},"6631bd48468a490eb4668a085ff95336":{"model_module":"@jupyter-widgets/controls","model_name":"DescriptionStyleModel","state":{"_view_name":"StyleView","_model_name":"DescriptionStyleModel","description_width":"","_view_module":"@jupyter-widgets/base","_model_module_version":"1.5.0","_view_count":null,"_view_module_version":"1.2.0","_model_module":"@jupyter-widgets/controls"}},"38d48a58f6fc467eb9e503ce251dcb6c":{"model_module":"@jupyter-widgets/base","model_name":"LayoutModel","state":{"_view_name":"LayoutView","grid_template_rows":null,"right":null,"justify_content":null,"_view_module":"@jupyter-widgets/base","overflow":null,"_model_module_version":"1.2.0","_view_count":null,"flex_flow":null,"width":null,"min_width":null,"border":null,"align_items":null,"bottom":null,"_model_module":"@jupyter-widgets/base","top":null,"grid_column":null,"overflow_y":null,"overflow_x":null,"grid_auto_flow":null,"grid_area":null,"grid_template_columns":null,"flex":null,"_model_name":"LayoutModel","justify_items":null,"grid_row":null,"max_height":null,"align_content":null,"visibility":null,"align_self":null,"height":null,"min_height":null,"padding":null,"grid_auto_rows":null,"grid_gap":null,"max_width":null,"order":null,"_view_module_version":"1.2.0","grid_template_areas":null,"object_position":null,"object_fit":null,"grid_auto_columns":null,"margin":null,"display":null,"left":null}}}},"colab":{"name":"reservoirNet.ipynb","provenance":[],"collapsed_sections":[]},"accelerator":"GPU"},"cells":[{"cell_type":"code","metadata":{"id":"E9XpqxcfSDMG","colab_type":"code","outputId":"e0bfcce7-a984-4124-d490-a27bebd52ac6","executionInfo":{"status":"ok","timestamp":1583896275301,"user_tz":-540,"elapsed":23467,"user":{"displayName":"Junpei Fujino","photoUrl":"","userId":"02471393729313023125"}},"colab":{"base_uri":"https://localhost:8080/","height":127}},"source":["from google.colab import drive\n","drive.mount('/content/drive')"],"execution_count":1,"outputs":[{"output_type":"stream","text":["Go to this URL in a browser: https://accounts.google.com/o/oauth2/auth?client_id=947318989803-6bn6qk8qdgf4n4g3pfee6491hc0brc4i.apps.googleusercontent.com&redirect_uri=urn%3aietf%3awg%3aoauth%3a2.0%3aoob&response_type=code&scope=email%20https%3a%2f%2fwww.googleapis.com%2fauth%2fdocs.test%20https%3a%2f%2fwww.googleapis.com%2fauth%2fdrive%20https%3a%2f%2fwww.googleapis.com%2fauth%2fdrive.photos.readonly%20https%3a%2f%2fwww.googleapis.com%2fauth%2fpeopleapi.readonly\n","\n","Enter your authorization code:\n","··········\n","Mounted at /content/drive\n"],"name":"stdout"}]},{"cell_type":"code","metadata":{"id":"H5Fr1HrmSDxa","colab_type":"code","outputId":"4bdee272-81bb-4618-e58a-2de58939408a","executionInfo":{"status":"ok","timestamp":1583896306009,"user_tz":-540,"elapsed":679,"user":{"displayName":"Junpei Fujino","photoUrl":"","userId":"02471393729313023125"}},"colab":{"base_uri":"https://localhost:8080/","height":35}},"source":["cd drive/My\\ Drive/reservoirNet"],"execution_count":2,"outputs":[{"output_type":"stream","text":["/content/drive/My Drive/reservoirNet\n"],"name":"stdout"}]},{"cell_type":"code","metadata":{"id":"qVqji5uesMXQ","colab_type":"code","outputId":"9a9a5d9b-92dc-411f-d513-a558ce24ffea","executionInfo":{"status":"ok","timestamp":1583896345422,"user_tz":-540,"elapsed":5688,"user":{"displayName":"Junpei Fujino","photoUrl":"","userId":"02471393729313023125"}},"colab":{"base_uri":"https://localhost:8080/","height":701}},"source":["!pip install bindsnet\n","!pip install easydict"],"execution_count":4,"outputs":[{"output_type":"stream","text":["Requirement already satisfied: bindsnet in /usr/local/lib/python3.6/dist-packages (0.2.7)\n","Requirement already satisfied: tqdm>=4.19.9 in /usr/local/lib/python3.6/dist-packages (from bindsnet) (4.28.1)\n","Requirement already satisfied: torch>=1.2.0 in /usr/local/lib/python3.6/dist-packages (from bindsnet) (1.4.0)\n","Requirement already satisfied: scikit-image>=0.13.1 in /usr/local/lib/python3.6/dist-packages (from bindsnet) (0.16.2)\n","Requirement already satisfied: torchvision>=0.4.0 in /usr/local/lib/python3.6/dist-packages (from bindsnet) (0.5.0)\n","Requirement already satisfied: pytest>=3.4.0 in /usr/local/lib/python3.6/dist-packages (from bindsnet) (3.6.4)\n","Requirement already satisfied: matplotlib>=2.1.0 in /usr/local/lib/python3.6/dist-packages (from bindsnet) (3.1.3)\n","Requirement already satisfied: pandas>=0.23.4 in /usr/local/lib/python3.6/dist-packages (from bindsnet) (0.25.3)\n","Requirement already satisfied: opencv-python>=3.4.0.12 in /usr/local/lib/python3.6/dist-packages (from bindsnet) (4.1.2.30)\n","Requirement already satisfied: numpy>=1.14.2 in /usr/local/lib/python3.6/dist-packages (from bindsnet) (1.17.5)\n","Requirement already satisfied: tensorboardX>=1.7 in /usr/local/lib/python3.6/dist-packages (from bindsnet) (2.0)\n","Requirement already satisfied: scipy>=1.1.0 in /usr/local/lib/python3.6/dist-packages (from bindsnet) (1.4.1)\n","Requirement already satisfied: scikit-learn>=0.19.1 in /usr/local/lib/python3.6/dist-packages (from bindsnet) (0.22.1)\n","Requirement already satisfied: cython>=0.28.5 in /usr/local/lib/python3.6/dist-packages (from bindsnet) (0.29.15)\n","Requirement already satisfied: gym>=0.10.4 in /usr/local/lib/python3.6/dist-packages (from bindsnet) (0.15.6)\n","Requirement already satisfied: networkx>=2.0 in /usr/local/lib/python3.6/dist-packages (from scikit-image>=0.13.1->bindsnet) (2.4)\n","Requirement already satisfied: pillow>=4.3.0 in /usr/local/lib/python3.6/dist-packages (from scikit-image>=0.13.1->bindsnet) (6.2.2)\n","Requirement already satisfied: PyWavelets>=0.4.0 in /usr/local/lib/python3.6/dist-packages (from scikit-image>=0.13.1->bindsnet) (1.1.1)\n","Requirement already satisfied: imageio>=2.3.0 in /usr/local/lib/python3.6/dist-packages (from scikit-image>=0.13.1->bindsnet) (2.4.1)\n","Requirement already satisfied: six in /usr/local/lib/python3.6/dist-packages (from torchvision>=0.4.0->bindsnet) (1.12.0)\n","Requirement already satisfied: py>=1.5.0 in /usr/local/lib/python3.6/dist-packages (from pytest>=3.4.0->bindsnet) (1.8.1)\n","Requirement already satisfied: more-itertools>=4.0.0 in /usr/local/lib/python3.6/dist-packages (from pytest>=3.4.0->bindsnet) (8.2.0)\n","Requirement already satisfied: setuptools in /usr/local/lib/python3.6/dist-packages (from pytest>=3.4.0->bindsnet) (45.2.0)\n","Requirement already satisfied: attrs>=17.4.0 in /usr/local/lib/python3.6/dist-packages (from pytest>=3.4.0->bindsnet) (19.3.0)\n","Requirement already satisfied: pluggy<0.8,>=0.5 in /usr/local/lib/python3.6/dist-packages (from pytest>=3.4.0->bindsnet) (0.7.1)\n","Requirement already satisfied: atomicwrites>=1.0 in /usr/local/lib/python3.6/dist-packages (from pytest>=3.4.0->bindsnet) (1.3.0)\n","Requirement already satisfied: kiwisolver>=1.0.1 in /usr/local/lib/python3.6/dist-packages (from matplotlib>=2.1.0->bindsnet) (1.1.0)\n","Requirement already satisfied: python-dateutil>=2.1 in /usr/local/lib/python3.6/dist-packages (from matplotlib>=2.1.0->bindsnet) (2.6.1)\n","Requirement already satisfied: cycler>=0.10 in /usr/local/lib/python3.6/dist-packages (from matplotlib>=2.1.0->bindsnet) (0.10.0)\n","Requirement already satisfied: pyparsing!=2.0.4,!=2.1.2,!=2.1.6,>=2.0.1 in /usr/local/lib/python3.6/dist-packages (from matplotlib>=2.1.0->bindsnet) (2.4.6)\n","Requirement already satisfied: pytz>=2017.2 in /usr/local/lib/python3.6/dist-packages (from pandas>=0.23.4->bindsnet) (2018.9)\n","Requirement already satisfied: protobuf>=3.8.0 in /usr/local/lib/python3.6/dist-packages (from tensorboardX>=1.7->bindsnet) (3.10.0)\n","Requirement already satisfied: joblib>=0.11 in /usr/local/lib/python3.6/dist-packages (from scikit-learn>=0.19.1->bindsnet) (0.14.1)\n","Requirement already satisfied: cloudpickle~=1.2.0 in /usr/local/lib/python3.6/dist-packages (from gym>=0.10.4->bindsnet) (1.2.2)\n","Requirement already satisfied: pyglet<=1.5.0,>=1.4.0 in /usr/local/lib/python3.6/dist-packages (from gym>=0.10.4->bindsnet) (1.4.10)\n","Requirement already satisfied: decorator>=4.3.0 in /usr/local/lib/python3.6/dist-packages (from networkx>=2.0->scikit-image>=0.13.1->bindsnet) (4.4.1)\n","Requirement already satisfied: future in /usr/local/lib/python3.6/dist-packages (from pyglet<=1.5.0,>=1.4.0->gym>=0.10.4->bindsnet) (0.16.0)\n","Requirement already satisfied: easydict in /usr/local/lib/python3.6/dist-packages (1.9)\n"],"name":"stdout"}]},{"cell_type":"code","metadata":{"id":"N1RJPs4dNBsY","colab_type":"code","colab":{}},"source":["import os\n","import numpy as np\n","import pandas as pd\n","import torch\n","import torch.nn as nn\n","import argparse\n","import matplotlib.pyplot as plt\n","\n","from torchvision import transforms\n","from tqdm import tqdm_notebook as tqdm\n","from bindsnet.analysis.plotting import (\n","    plot_input,\n","    plot_spikes,\n","    plot_voltages,\n","    plot_weights,\n",")\n","from bindsnet.datasets import MNIST\n","from bindsnet.encoding import PoissonEncoder\n","from bindsnet.network import Network\n","from bindsnet.network.nodes import Input\n","\n","# Build a simple two-layer, input-output network.\n","from bindsnet.network.monitors import Monitor\n","from bindsnet.network.nodes import LIFNodes\n","from bindsnet.network.topology import Connection\n","from bindsnet.utils import get_square_weights\n","\n","import easydict"],"execution_count":0,"outputs":[]},{"cell_type":"code","metadata":{"_cell_guid":"79c7e3d0-c299-4dcb-8224-4455121ee9b0","_uuid":"d629ff2d2480ee46fbb7e2d37f6b5fab8052498a","id":"RtYydfQ6sMXZ","colab_type":"code","outputId":"3a8c711f-b11e-488f-b002-9aa53b0e0caf","executionInfo":{"status":"ok","timestamp":1583904577610,"user_tz":-540,"elapsed":3787,"user":{"displayName":"Junpei Fujino","photoUrl":"","userId":"02471393729313023125"}},"colab":{"base_uri":"https://localhost:8080/","height":49,"referenced_widgets":["ac34d12fe5c747dfb377f2bd0837e5e8","4057f889c9dc4d428b4a20e17b36c90b","6ac5b421ecda472b809ccd103997e2b6","f62396a360f44ac4ac74b587a8bfb97b","218380843d37478d9ea93fc9d1fe2159","6d69eddaf8b240599453ec5a59eebd9e","6631bd48468a490eb4668a085ff95336","38d48a58f6fc467eb9e503ce251dcb6c"]}},"source":["args = easydict.EasyDict({\n","        \"seed\": 0,\n","        \"n_neurons\": 500,\n","        \"n_epochs\": 100,\n","        \"n_examples\": 1000,\n","        \"n_workers\": -1,\n","        \"time\": 251,\n","        \"dt\": 1.0,\n","        \"intensity\": 64,\n","        \"progress_interval\": 10,\n","        \"update_interval\": 250,\n","        \"gpu\": True,\n","        \"device_id\": 0,\n","        \"train\": True\n","})\n","\n","seed = args.seed\n","n_neurons = args.n_neurons\n","n_epochs = args.n_epochs\n","n_examples = args.n_examples\n","n_workers = args.n_workers\n","time = args.time\n","dt = args.dt\n","intensity = args.intensity\n","progress_interval = args.progress_interval\n","update_interval = args.update_interval\n","train = args.train\n","gpu = args.gpu\n","device_id = args.device_id\n","n_iters = n_examples\n","\n","np.random.seed(seed)\n","torch.cuda.manual_seed_all(seed)\n","torch.manual_seed(seed)\n","\n","# Sets up Gpu use\n","if gpu and torch.cuda.is_available():\n","    torch.cuda.set_device(device_id)\n","    # torch.set_default_tensor_type('torch.cuda.FloatTensor')\n","else:\n","    torch.manual_seed(seed)\n","\n","# dt: the simulation time step\n","network = Network(dt=dt)\n","\n","# 入力層\n","inpt = Input(2, shape=(1,2))\n","network.add_layer(inpt, name=\"I\")\n","\n","# リザーバー層\n","output = LIFNodes(n_neurons, thresh=-52 + np.random.randn(n_neurons).astype(float))\n","network.add_layer(output, name=\"O\")\n","\n","# 入力層->リザーバー層とリザーバー層->リザーバー層のコネクションを作成\n","C1 = Connection(source=inpt, target=output, w=0.5 * torch.randn(inpt.n, output.n))\n","C2 = Connection(source=output, target=output, w=0.5 * torch.randn(output.n, output.n))\n","network.add_connection(C1, source=\"I\", target=\"O\")\n","network.add_connection(C2, source=\"O\", target=\"O\")\n","\n","# スパイクのモニター(入力、リザーバー)\n","spikes = {}\n","for l in network.layers:\n","    spikes[l] = Monitor(network.layers[l], [\"s\"], time=time)\n","    network.add_monitor(spikes[l], name=\"%s_spikes\" % l)\n","\n","# ボルトのモニター(リザーバー)\n","voltages = {\"O\": Monitor(network.layers[\"O\"], [\"v\"], time=time)}\n","network.add_monitor(voltages[\"O\"], name=\"O_voltages\")\n","\n","# Directs network to GPU\n","if gpu:\n","    network.to(\"cuda\")\n","\n","# dataset作成\n","class MyDataset(torch.utils.data.Dataset):\n","    # xy.shape = (n, time, xy)\n","    # F.shape = (n, time, F)\n","    def __init__(self, xy, F, transform=None):\n","        self.transform = transform\n","        self.data_num = xy.shape[0]\n","        self.data = xy\n","        self.label = F\n","\n","    def __len__(self):\n","        return self.data_num\n","\n","    def __getitem__(self, idx):\n","        out_data = self.data[idx]\n","        out_label =  self.label[idx]\n","\n","        if self.transform:\n","            out_data = self.transform(out_data)\n","\n","        return out_data, out_label\n","\n","train_data = pd.read_csv(\"train_data.csv\", header = None)\n","train_data = np.array(train_data)\n","train_data = train_data.reshape((1000,251,4))\n","# from IPython.core.debugger import Pdb; Pdb().set_trace()\n","xy = train_data[:10,:,0:2]\n","F = train_data[:10,:,2:4]\n","dataset = MyDataset(xy, F, transform=None)\n","\n","# Create a dataloader to iterate and batch data\n","dataloader = torch.utils.data.DataLoader(\n","    dataset, batch_size=1, shuffle=True, num_workers=0, pin_memory=gpu\n",")\n","\n","# Run training data on reservoir computer and store (spikes per neuron, label) per example.\n","train_pairs = []\n","pbar = tqdm(enumerate(dataloader))\n","\n","# \n","# このループではトレーニングデータを作成していると考えて良い\n","# q = int((bs-1)/2)\n","for (i, dataPoint) in pbar:\n","    # data, labelを取り出している\n","    datum = dataPoint[0].view(time, 2).to(device_id)\n","    label = dataPoint[1].view(time, 2)\n","    pbar.set_description_str(\"Train progress: (%d / %d)\" % (i, n_iters))\n","    # 時間を1つ進める\n","    for j in range(251):\n","      network.run(inputs={\"I\": datum[j]}, time=1, input_time_dim=1)\n","#      # リザーバー層の状態とラベルをトレーニングデータとして保存\n","      train_pairs.append([np.array(spikes[\"O\"].get(\"s\").cpu()).astype(np.int), label[j]])\n","#    network.run(inputs={\"I\": datum}, time=251, input_time_dim=1)\n","#    train_pairs.append([spikes[\"O\"].get(\"s\").sum(0), label])\n","    network.reset_state_variables()\n","#np.save(\"training_pairs\", train_pairs)\n","# Define logistic regression model using PyTorch."],"execution_count":113,"outputs":[{"output_type":"display_data","data":{"application/vnd.jupyter.widget-view+json":{"model_id":"ac34d12fe5c747dfb377f2bd0837e5e8","version_minor":0,"version_major":2},"text/plain":["HBox(children=(IntProgress(value=1, bar_style='info', max=1), HTML(value='')))"]},"metadata":{"tags":[]}}]},{"cell_type":"code","metadata":{"id":"-bcrje02yKzF","colab_type":"code","colab":{}},"source":["for k in range(251):\n","  print(sum(train_pairs[k][0][0][0]))"],"execution_count":0,"outputs":[]},{"cell_type":"code","metadata":{"id":"I5S-3s9ZoHIN","colab_type":"code","colab":{}},"source":["training_pairs = np.load(\"training_pairs.npy\", allow_pickle=True)\n","# 回帰モデル\n","class NN(nn.Module):\n","    def __init__(self, input_size):\n","        super(NN, self).__init__()\n","        #h = int(input_size/2)\n","        # self.linear_1 = nn.Linear(input_size, num_classes)\n","        # self.linear_1 = nn.Linear(input_size, h)\n","        # self.linear_2 = nn.Linear(h, 2)\n","        self.linear = nn.Linear(input_size, 2)\n","\n","    def forward(self, x):\n","        # out = torch.relu(self.linear_1(x.float().view(-1)))\n","        # out = self.linear_2(out)\n","        out = self.linear(x.float().view(-1))\n","        return out\n","\n","# Create and train logistic regression model on reservoir outputs.\n","model = NN(n_neurons).to(device_id)\n","criterion = torch.nn.MSELoss(reduction=\"sum\")\n","# optimizer = torch.optim.SGD(model.parameters(), lr=1e-4, momentum=0.9)\n","optimizer = torch.optim.Adam(model.parameters(), lr=1e-4, betas=(0.5, 0.999))\n","\n","# Training the Model\n","# 回帰モデルを先ほど生成したデータでトレーニング\n","print(\"\\n Training the read out\")\n","# model.load_state_dict(torch.load(\"model\"))\n","pbar = tqdm(enumerate(range(n_epochs)))\n","for epoch, _ in pbar:\n","    avg_loss = 0\n","    for i, (s, l) in enumerate(training_pairs):\n","        # Forward + Backward + Optimize\n","        optimizer.zero_grad()\n","        outputs = model(s.view(-1))\n","        from IPython.core.debugger import Pdb; Pdb().set_trace()\n","        label = l.float().to(device_id)\n","        loss = criterion(outputs, label)\n","        avg_loss += loss.data\n","        loss.backward()\n","        optimizer.step()\n","    pbar.set_description_str(\n","        \"Epoch: %d/%d, Loss: %.4f\"\n","        % (epoch + 1, n_epochs, avg_loss / len(training_pairs))\n","    )\n","\n","torch.save(model.state_dict(), \"model\")\n","\"\"\"\n","test_pairs = []\n","pbar = tqdm(enumerate(dataloader))\n","for (i, dataPoint) in pbar:\n","    datum = dataPoint[0].view(time, 2)\n","    labels = dataPoint[1].view(time, 2)\n","    pbar.set_description_str(\"Testing progress: (%d / %d)\" % (i, n_iters))\n","\n","    for j in range(q, datum.shape[0]-q):\n","        data = datum[ j-q : j+q+1 ].to(device_id)\n","        data = data[np.newaxis,np.newaxis,:,:]\n","        label = labels[j]\n","        # 時間を1つ進める\n","        network.run(inputs={\"I\": data}, time=1, input_time_dim=1)\n","        # リザーバー層の状態とラベルをトレーニングデータとして保存\n","        test_pairs.append([spikes[\"O\"].get(\"s\").sum(0), label])\n","\n","    network.reset_state_variables()\n","\n","np.save(\"test_pairs\", test_pairs)\n","\"\"\"\n","# test_pairs = np.load(\"test_pairs.npy\", allow_pickle=True)\n","\n","# Test the Model\n","# 作成したテストデータでロジスティック回帰モデルをテスト\n","loss, total = 0, 0\n","for s, label in train_pairs:\n","    outputs = model(s)\n","    loss += criterion(outputs, label.float().to(device_id)).data\n","    total += 1\n","\n","print(\n","    \"\\n Accuracy of the model on %d test images: %.2f %%\"\n","    % (n_iters, loss / total)\n",")"],"execution_count":0,"outputs":[]},{"cell_type":"code","metadata":{"id":"hllb0D9emNcw","colab_type":"code","colab":{"base_uri":"https://localhost:8080/","height":35},"outputId":"9510e507-ea1b-404c-dfac-211a605ecc4d","executionInfo":{"status":"ok","timestamp":1583897688594,"user_tz":-540,"elapsed":352,"user":{"displayName":"Junpei Fujino","photoUrl":"","userId":"02471393729313023125"}}},"source":["training_pairs.shape"],"execution_count":21,"outputs":[{"output_type":"execute_result","data":{"text/plain":["(1000, 2)"]},"metadata":{"tags":[]},"execution_count":21}]},{"cell_type":"code","metadata":{"colab_type":"code","id":"Y_LCEC56lZkP","colab":{}},"source":["np.save(\"training_pairs\", training_pairs)\n","np.save(\"test_pairs\", test_pairs)"],"execution_count":0,"outputs":[]},{"cell_type":"code","metadata":{"id":"v6ZIIGGi_evg","colab_type":"code","outputId":"149da5c2-6caa-4f69-bc8b-ba0f34cc1741","executionInfo":{"status":"ok","timestamp":1582527776529,"user_tz":-540,"elapsed":1250,"user":{"displayName":"Kazuki Mizuta","photoUrl":"","userId":"16031950530576066183"}},"colab":{"base_uri":"https://localhost:8080/","height":282}},"source":["n = 100\n","test_pairs_ = test_pairs[296*n:296*(n+1)]\n","theta1 = []\n","theta2 = []\n","true_theta1 = []\n","true_theta2 = []\n","for s, label in test_pairs_:\n","    theta1.append(model(s)[0])\n","    theta2.append(model(s)[1])\n","    true_theta1.append(label[0])\n","    true_theta2.append(label[1])\n","x_, y_ = theta_to_xy(theta1,theta2)\n","true_x, true_y = theta_to_xy(true_theta1, true_theta2)\n","plt.plot(x_,y_)\n","plt.plot(true_x, true_y)"],"execution_count":0,"outputs":[{"output_type":"execute_result","data":{"text/plain":["[<matplotlib.lines.Line2D at 0x7fae08c9c0b8>]"]},"metadata":{"tags":[]},"execution_count":56},{"output_type":"display_data","data":{"image/png":"iVBORw0KGgoAAAANSUhEUgAAAYcAAAD4CAYAAAAHHSreAAAABHNCSVQICAgIfAhkiAAAAAlwSFlz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\nMzMr8OJgZmYFXhzMzKzgv5YLwy6kicxSAAAAAElFTkSuQmCC\n","text/plain":["<Figure size 432x288 with 1 Axes>"]},"metadata":{"tags":[]}}]}]}
=======
{
  "nbformat": 4,
  "nbformat_minor": 0,
  "metadata": {
    "kernelspec": {
      "name": "python3",
      "display_name": "Python 3"
    },
    "language_info": {
      "codemirror_mode": {
        "name": "ipython",
        "version": 3
      },
      "file_extension": ".py",
      "mimetype": "text/x-python",
      "name": "python",
      "nbconvert_exporter": "python",
      "pygments_lexer": "ipython3",
      "version": "3.6.6"
    },
    "widgets": {
      "application/vnd.jupyter.widget-state+json": {
        "901e62ee42c04f3583d588e8c40a2c82": {
          "model_module": "@jupyter-widgets/controls",
          "model_name": "HBoxModel",
          "state": {
            "_view_name": "HBoxView",
            "_dom_classes": [],
            "_model_name": "HBoxModel",
            "_view_module": "@jupyter-widgets/controls",
            "_model_module_version": "1.5.0",
            "_view_count": null,
            "_view_module_version": "1.5.0",
            "box_style": "",
            "layout": "IPY_MODEL_df0647d2b1c04702ba54e073bee74e0c",
            "_model_module": "@jupyter-widgets/controls",
            "children": [
              "IPY_MODEL_8e5a47d7dcd6426a8023592026f79064",
              "IPY_MODEL_33e6f453905e4c539c6aee2fdb68743a"
            ]
          }
        },
        "df0647d2b1c04702ba54e073bee74e0c": {
          "model_module": "@jupyter-widgets/base",
          "model_name": "LayoutModel",
          "state": {
            "_view_name": "LayoutView",
            "grid_template_rows": null,
            "right": null,
            "justify_content": null,
            "_view_module": "@jupyter-widgets/base",
            "overflow": null,
            "_model_module_version": "1.2.0",
            "_view_count": null,
            "flex_flow": null,
            "width": null,
            "min_width": null,
            "border": null,
            "align_items": null,
            "bottom": null,
            "_model_module": "@jupyter-widgets/base",
            "top": null,
            "grid_column": null,
            "overflow_y": null,
            "overflow_x": null,
            "grid_auto_flow": null,
            "grid_area": null,
            "grid_template_columns": null,
            "flex": null,
            "_model_name": "LayoutModel",
            "justify_items": null,
            "grid_row": null,
            "max_height": null,
            "align_content": null,
            "visibility": null,
            "align_self": null,
            "height": null,
            "min_height": null,
            "padding": null,
            "grid_auto_rows": null,
            "grid_gap": null,
            "max_width": null,
            "order": null,
            "_view_module_version": "1.2.0",
            "grid_template_areas": null,
            "object_position": null,
            "object_fit": null,
            "grid_auto_columns": null,
            "margin": null,
            "display": null,
            "left": null
          }
        },
        "8e5a47d7dcd6426a8023592026f79064": {
          "model_module": "@jupyter-widgets/controls",
          "model_name": "IntProgressModel",
          "state": {
            "_view_name": "ProgressView",
            "style": "IPY_MODEL_8b9ea1b98fa04928bd9938b9d661413d",
            "_dom_classes": [],
            "description": "",
            "_model_name": "IntProgressModel",
            "bar_style": "success",
            "max": 1,
            "_view_module": "@jupyter-widgets/controls",
            "_model_module_version": "1.5.0",
            "value": 1,
            "_view_count": null,
            "_view_module_version": "1.5.0",
            "orientation": "horizontal",
            "min": 0,
            "description_tooltip": null,
            "_model_module": "@jupyter-widgets/controls",
            "layout": "IPY_MODEL_a6b2c88603504f04920465a0fc79f915"
          }
        },
        "33e6f453905e4c539c6aee2fdb68743a": {
          "model_module": "@jupyter-widgets/controls",
          "model_name": "HTMLModel",
          "state": {
            "_view_name": "HTMLView",
            "style": "IPY_MODEL_8a6779d14498467b82aa048c062d7144",
            "_dom_classes": [],
            "description": "",
            "_model_name": "HTMLModel",
            "placeholder": "​",
            "_view_module": "@jupyter-widgets/controls",
            "_model_module_version": "1.5.0",
            "value": "Train progress: (899 / 1000): 900it [11:48,  1.23it/s]",
            "_view_count": null,
            "_view_module_version": "1.5.0",
            "description_tooltip": null,
            "_model_module": "@jupyter-widgets/controls",
            "layout": "IPY_MODEL_72f7bae058a34b73af9ee1ddb6cd322e"
          }
        },
        "8b9ea1b98fa04928bd9938b9d661413d": {
          "model_module": "@jupyter-widgets/controls",
          "model_name": "ProgressStyleModel",
          "state": {
            "_view_name": "StyleView",
            "_model_name": "ProgressStyleModel",
            "description_width": "",
            "_view_module": "@jupyter-widgets/base",
            "_model_module_version": "1.5.0",
            "_view_count": null,
            "_view_module_version": "1.2.0",
            "bar_color": null,
            "_model_module": "@jupyter-widgets/controls"
          }
        },
        "a6b2c88603504f04920465a0fc79f915": {
          "model_module": "@jupyter-widgets/base",
          "model_name": "LayoutModel",
          "state": {
            "_view_name": "LayoutView",
            "grid_template_rows": null,
            "right": null,
            "justify_content": null,
            "_view_module": "@jupyter-widgets/base",
            "overflow": null,
            "_model_module_version": "1.2.0",
            "_view_count": null,
            "flex_flow": null,
            "width": null,
            "min_width": null,
            "border": null,
            "align_items": null,
            "bottom": null,
            "_model_module": "@jupyter-widgets/base",
            "top": null,
            "grid_column": null,
            "overflow_y": null,
            "overflow_x": null,
            "grid_auto_flow": null,
            "grid_area": null,
            "grid_template_columns": null,
            "flex": null,
            "_model_name": "LayoutModel",
            "justify_items": null,
            "grid_row": null,
            "max_height": null,
            "align_content": null,
            "visibility": null,
            "align_self": null,
            "height": null,
            "min_height": null,
            "padding": null,
            "grid_auto_rows": null,
            "grid_gap": null,
            "max_width": null,
            "order": null,
            "_view_module_version": "1.2.0",
            "grid_template_areas": null,
            "object_position": null,
            "object_fit": null,
            "grid_auto_columns": null,
            "margin": null,
            "display": null,
            "left": null
          }
        },
        "8a6779d14498467b82aa048c062d7144": {
          "model_module": "@jupyter-widgets/controls",
          "model_name": "DescriptionStyleModel",
          "state": {
            "_view_name": "StyleView",
            "_model_name": "DescriptionStyleModel",
            "description_width": "",
            "_view_module": "@jupyter-widgets/base",
            "_model_module_version": "1.5.0",
            "_view_count": null,
            "_view_module_version": "1.2.0",
            "_model_module": "@jupyter-widgets/controls"
          }
        },
        "72f7bae058a34b73af9ee1ddb6cd322e": {
          "model_module": "@jupyter-widgets/base",
          "model_name": "LayoutModel",
          "state": {
            "_view_name": "LayoutView",
            "grid_template_rows": null,
            "right": null,
            "justify_content": null,
            "_view_module": "@jupyter-widgets/base",
            "overflow": null,
            "_model_module_version": "1.2.0",
            "_view_count": null,
            "flex_flow": null,
            "width": null,
            "min_width": null,
            "border": null,
            "align_items": null,
            "bottom": null,
            "_model_module": "@jupyter-widgets/base",
            "top": null,
            "grid_column": null,
            "overflow_y": null,
            "overflow_x": null,
            "grid_auto_flow": null,
            "grid_area": null,
            "grid_template_columns": null,
            "flex": null,
            "_model_name": "LayoutModel",
            "justify_items": null,
            "grid_row": null,
            "max_height": null,
            "align_content": null,
            "visibility": null,
            "align_self": null,
            "height": null,
            "min_height": null,
            "padding": null,
            "grid_auto_rows": null,
            "grid_gap": null,
            "max_width": null,
            "order": null,
            "_view_module_version": "1.2.0",
            "grid_template_areas": null,
            "object_position": null,
            "object_fit": null,
            "grid_auto_columns": null,
            "margin": null,
            "display": null,
            "left": null
          }
        },
        "be15cc4d21334a99be161a800d4a6e9e": {
          "model_module": "@jupyter-widgets/controls",
          "model_name": "HBoxModel",
          "state": {
            "_view_name": "HBoxView",
            "_dom_classes": [],
            "_model_name": "HBoxModel",
            "_view_module": "@jupyter-widgets/controls",
            "_model_module_version": "1.5.0",
            "_view_count": null,
            "_view_module_version": "1.5.0",
            "box_style": "",
            "layout": "IPY_MODEL_18dde3d2451a4d2abd87c1a07b96b178",
            "_model_module": "@jupyter-widgets/controls",
            "children": [
              "IPY_MODEL_50b000ecf3c74e19bc144a5c80bc1335",
              "IPY_MODEL_cad2b20dd0da4379a29c144348026b52"
            ]
          }
        },
        "18dde3d2451a4d2abd87c1a07b96b178": {
          "model_module": "@jupyter-widgets/base",
          "model_name": "LayoutModel",
          "state": {
            "_view_name": "LayoutView",
            "grid_template_rows": null,
            "right": null,
            "justify_content": null,
            "_view_module": "@jupyter-widgets/base",
            "overflow": null,
            "_model_module_version": "1.2.0",
            "_view_count": null,
            "flex_flow": null,
            "width": null,
            "min_width": null,
            "border": null,
            "align_items": null,
            "bottom": null,
            "_model_module": "@jupyter-widgets/base",
            "top": null,
            "grid_column": null,
            "overflow_y": null,
            "overflow_x": null,
            "grid_auto_flow": null,
            "grid_area": null,
            "grid_template_columns": null,
            "flex": null,
            "_model_name": "LayoutModel",
            "justify_items": null,
            "grid_row": null,
            "max_height": null,
            "align_content": null,
            "visibility": null,
            "align_self": null,
            "height": null,
            "min_height": null,
            "padding": null,
            "grid_auto_rows": null,
            "grid_gap": null,
            "max_width": null,
            "order": null,
            "_view_module_version": "1.2.0",
            "grid_template_areas": null,
            "object_position": null,
            "object_fit": null,
            "grid_auto_columns": null,
            "margin": null,
            "display": null,
            "left": null
          }
        },
        "50b000ecf3c74e19bc144a5c80bc1335": {
          "model_module": "@jupyter-widgets/controls",
          "model_name": "IntProgressModel",
          "state": {
            "_view_name": "ProgressView",
            "style": "IPY_MODEL_78c1ce6bfde44a3a8db711a9456e2fd0",
            "_dom_classes": [],
            "description": "",
            "_model_name": "IntProgressModel",
            "bar_style": "success",
            "max": 1,
            "_view_module": "@jupyter-widgets/controls",
            "_model_module_version": "1.5.0",
            "value": 1,
            "_view_count": null,
            "_view_module_version": "1.5.0",
            "orientation": "horizontal",
            "min": 0,
            "description_tooltip": null,
            "_model_module": "@jupyter-widgets/controls",
            "layout": "IPY_MODEL_d90bc20421774ae7aaeccdd59e821f31"
          }
        },
        "cad2b20dd0da4379a29c144348026b52": {
          "model_module": "@jupyter-widgets/controls",
          "model_name": "HTMLModel",
          "state": {
            "_view_name": "HTMLView",
            "style": "IPY_MODEL_c7ad52c85340456da5efac73a78aeda7",
            "_dom_classes": [],
            "description": "",
            "_model_name": "HTMLModel",
            "placeholder": "​",
            "_view_module": "@jupyter-widgets/controls",
            "_model_module_version": "1.5.0",
            "value": "Train progress: (99 / 1000): 100it [01:18,  1.27it/s]",
            "_view_count": null,
            "_view_module_version": "1.5.0",
            "description_tooltip": null,
            "_model_module": "@jupyter-widgets/controls",
            "layout": "IPY_MODEL_0e418bd6f5a24254b3dd187fa83a4043"
          }
        },
        "78c1ce6bfde44a3a8db711a9456e2fd0": {
          "model_module": "@jupyter-widgets/controls",
          "model_name": "ProgressStyleModel",
          "state": {
            "_view_name": "StyleView",
            "_model_name": "ProgressStyleModel",
            "description_width": "",
            "_view_module": "@jupyter-widgets/base",
            "_model_module_version": "1.5.0",
            "_view_count": null,
            "_view_module_version": "1.2.0",
            "bar_color": null,
            "_model_module": "@jupyter-widgets/controls"
          }
        },
        "d90bc20421774ae7aaeccdd59e821f31": {
          "model_module": "@jupyter-widgets/base",
          "model_name": "LayoutModel",
          "state": {
            "_view_name": "LayoutView",
            "grid_template_rows": null,
            "right": null,
            "justify_content": null,
            "_view_module": "@jupyter-widgets/base",
            "overflow": null,
            "_model_module_version": "1.2.0",
            "_view_count": null,
            "flex_flow": null,
            "width": null,
            "min_width": null,
            "border": null,
            "align_items": null,
            "bottom": null,
            "_model_module": "@jupyter-widgets/base",
            "top": null,
            "grid_column": null,
            "overflow_y": null,
            "overflow_x": null,
            "grid_auto_flow": null,
            "grid_area": null,
            "grid_template_columns": null,
            "flex": null,
            "_model_name": "LayoutModel",
            "justify_items": null,
            "grid_row": null,
            "max_height": null,
            "align_content": null,
            "visibility": null,
            "align_self": null,
            "height": null,
            "min_height": null,
            "padding": null,
            "grid_auto_rows": null,
            "grid_gap": null,
            "max_width": null,
            "order": null,
            "_view_module_version": "1.2.0",
            "grid_template_areas": null,
            "object_position": null,
            "object_fit": null,
            "grid_auto_columns": null,
            "margin": null,
            "display": null,
            "left": null
          }
        },
        "c7ad52c85340456da5efac73a78aeda7": {
          "model_module": "@jupyter-widgets/controls",
          "model_name": "DescriptionStyleModel",
          "state": {
            "_view_name": "StyleView",
            "_model_name": "DescriptionStyleModel",
            "description_width": "",
            "_view_module": "@jupyter-widgets/base",
            "_model_module_version": "1.5.0",
            "_view_count": null,
            "_view_module_version": "1.2.0",
            "_model_module": "@jupyter-widgets/controls"
          }
        },
        "0e418bd6f5a24254b3dd187fa83a4043": {
          "model_module": "@jupyter-widgets/base",
          "model_name": "LayoutModel",
          "state": {
            "_view_name": "LayoutView",
            "grid_template_rows": null,
            "right": null,
            "justify_content": null,
            "_view_module": "@jupyter-widgets/base",
            "overflow": null,
            "_model_module_version": "1.2.0",
            "_view_count": null,
            "flex_flow": null,
            "width": null,
            "min_width": null,
            "border": null,
            "align_items": null,
            "bottom": null,
            "_model_module": "@jupyter-widgets/base",
            "top": null,
            "grid_column": null,
            "overflow_y": null,
            "overflow_x": null,
            "grid_auto_flow": null,
            "grid_area": null,
            "grid_template_columns": null,
            "flex": null,
            "_model_name": "LayoutModel",
            "justify_items": null,
            "grid_row": null,
            "max_height": null,
            "align_content": null,
            "visibility": null,
            "align_self": null,
            "height": null,
            "min_height": null,
            "padding": null,
            "grid_auto_rows": null,
            "grid_gap": null,
            "max_width": null,
            "order": null,
            "_view_module_version": "1.2.0",
            "grid_template_areas": null,
            "object_position": null,
            "object_fit": null,
            "grid_auto_columns": null,
            "margin": null,
            "display": null,
            "left": null
          }
        },
        "a887d651f7f14b85947082b5bf02ef37": {
          "model_module": "@jupyter-widgets/controls",
          "model_name": "HBoxModel",
          "state": {
            "_view_name": "HBoxView",
            "_dom_classes": [],
            "_model_name": "HBoxModel",
            "_view_module": "@jupyter-widgets/controls",
            "_model_module_version": "1.5.0",
            "_view_count": null,
            "_view_module_version": "1.5.0",
            "box_style": "",
            "layout": "IPY_MODEL_9e2030504a4a4412a44ddfe83c4c9ed4",
            "_model_module": "@jupyter-widgets/controls",
            "children": [
              "IPY_MODEL_969f2e09fb7048279e3e4864d00f4d53",
              "IPY_MODEL_fb6e9986b30f45eaa00ef8187a9a2cf5"
            ]
          }
        },
        "9e2030504a4a4412a44ddfe83c4c9ed4": {
          "model_module": "@jupyter-widgets/base",
          "model_name": "LayoutModel",
          "state": {
            "_view_name": "LayoutView",
            "grid_template_rows": null,
            "right": null,
            "justify_content": null,
            "_view_module": "@jupyter-widgets/base",
            "overflow": null,
            "_model_module_version": "1.2.0",
            "_view_count": null,
            "flex_flow": null,
            "width": null,
            "min_width": null,
            "border": null,
            "align_items": null,
            "bottom": null,
            "_model_module": "@jupyter-widgets/base",
            "top": null,
            "grid_column": null,
            "overflow_y": null,
            "overflow_x": null,
            "grid_auto_flow": null,
            "grid_area": null,
            "grid_template_columns": null,
            "flex": null,
            "_model_name": "LayoutModel",
            "justify_items": null,
            "grid_row": null,
            "max_height": null,
            "align_content": null,
            "visibility": null,
            "align_self": null,
            "height": null,
            "min_height": null,
            "padding": null,
            "grid_auto_rows": null,
            "grid_gap": null,
            "max_width": null,
            "order": null,
            "_view_module_version": "1.2.0",
            "grid_template_areas": null,
            "object_position": null,
            "object_fit": null,
            "grid_auto_columns": null,
            "margin": null,
            "display": null,
            "left": null
          }
        },
        "969f2e09fb7048279e3e4864d00f4d53": {
          "model_module": "@jupyter-widgets/controls",
          "model_name": "IntProgressModel",
          "state": {
            "_view_name": "ProgressView",
            "style": "IPY_MODEL_b4b5f15785ef4cd699cf4bdf0176ca1d",
            "_dom_classes": [],
            "description": "",
            "_model_name": "IntProgressModel",
            "bar_style": "success",
            "max": 1,
            "_view_module": "@jupyter-widgets/controls",
            "_model_module_version": "1.5.0",
            "value": 1,
            "_view_count": null,
            "_view_module_version": "1.5.0",
            "orientation": "horizontal",
            "min": 0,
            "description_tooltip": null,
            "_model_module": "@jupyter-widgets/controls",
            "layout": "IPY_MODEL_db33b80f199343ffb26ff81f3d4cf09c"
          }
        },
        "fb6e9986b30f45eaa00ef8187a9a2cf5": {
          "model_module": "@jupyter-widgets/controls",
          "model_name": "HTMLModel",
          "state": {
            "_view_name": "HTMLView",
            "style": "IPY_MODEL_c2f788b724664ac6a6a86d2e050b2255",
            "_dom_classes": [],
            "description": "",
            "_model_name": "HTMLModel",
            "placeholder": "​",
            "_view_module": "@jupyter-widgets/controls",
            "_model_module_version": "1.5.0",
            "value": "Epoch: 75/75, Loss: 0.2973: 75it [5:04:33, 242.79s/it]",
            "_view_count": null,
            "_view_module_version": "1.5.0",
            "description_tooltip": null,
            "_model_module": "@jupyter-widgets/controls",
            "layout": "IPY_MODEL_56270b22211342178d0610b7e0a5e7c1"
          }
        },
        "b4b5f15785ef4cd699cf4bdf0176ca1d": {
          "model_module": "@jupyter-widgets/controls",
          "model_name": "ProgressStyleModel",
          "state": {
            "_view_name": "StyleView",
            "_model_name": "ProgressStyleModel",
            "description_width": "",
            "_view_module": "@jupyter-widgets/base",
            "_model_module_version": "1.5.0",
            "_view_count": null,
            "_view_module_version": "1.2.0",
            "bar_color": null,
            "_model_module": "@jupyter-widgets/controls"
          }
        },
        "db33b80f199343ffb26ff81f3d4cf09c": {
          "model_module": "@jupyter-widgets/base",
          "model_name": "LayoutModel",
          "state": {
            "_view_name": "LayoutView",
            "grid_template_rows": null,
            "right": null,
            "justify_content": null,
            "_view_module": "@jupyter-widgets/base",
            "overflow": null,
            "_model_module_version": "1.2.0",
            "_view_count": null,
            "flex_flow": null,
            "width": null,
            "min_width": null,
            "border": null,
            "align_items": null,
            "bottom": null,
            "_model_module": "@jupyter-widgets/base",
            "top": null,
            "grid_column": null,
            "overflow_y": null,
            "overflow_x": null,
            "grid_auto_flow": null,
            "grid_area": null,
            "grid_template_columns": null,
            "flex": null,
            "_model_name": "LayoutModel",
            "justify_items": null,
            "grid_row": null,
            "max_height": null,
            "align_content": null,
            "visibility": null,
            "align_self": null,
            "height": null,
            "min_height": null,
            "padding": null,
            "grid_auto_rows": null,
            "grid_gap": null,
            "max_width": null,
            "order": null,
            "_view_module_version": "1.2.0",
            "grid_template_areas": null,
            "object_position": null,
            "object_fit": null,
            "grid_auto_columns": null,
            "margin": null,
            "display": null,
            "left": null
          }
        },
        "c2f788b724664ac6a6a86d2e050b2255": {
          "model_module": "@jupyter-widgets/controls",
          "model_name": "DescriptionStyleModel",
          "state": {
            "_view_name": "StyleView",
            "_model_name": "DescriptionStyleModel",
            "description_width": "",
            "_view_module": "@jupyter-widgets/base",
            "_model_module_version": "1.5.0",
            "_view_count": null,
            "_view_module_version": "1.2.0",
            "_model_module": "@jupyter-widgets/controls"
          }
        },
        "56270b22211342178d0610b7e0a5e7c1": {
          "model_module": "@jupyter-widgets/base",
          "model_name": "LayoutModel",
          "state": {
            "_view_name": "LayoutView",
            "grid_template_rows": null,
            "right": null,
            "justify_content": null,
            "_view_module": "@jupyter-widgets/base",
            "overflow": null,
            "_model_module_version": "1.2.0",
            "_view_count": null,
            "flex_flow": null,
            "width": null,
            "min_width": null,
            "border": null,
            "align_items": null,
            "bottom": null,
            "_model_module": "@jupyter-widgets/base",
            "top": null,
            "grid_column": null,
            "overflow_y": null,
            "overflow_x": null,
            "grid_auto_flow": null,
            "grid_area": null,
            "grid_template_columns": null,
            "flex": null,
            "_model_name": "LayoutModel",
            "justify_items": null,
            "grid_row": null,
            "max_height": null,
            "align_content": null,
            "visibility": null,
            "align_self": null,
            "height": null,
            "min_height": null,
            "padding": null,
            "grid_auto_rows": null,
            "grid_gap": null,
            "max_width": null,
            "order": null,
            "_view_module_version": "1.2.0",
            "grid_template_areas": null,
            "object_position": null,
            "object_fit": null,
            "grid_auto_columns": null,
            "margin": null,
            "display": null,
            "left": null
          }
        }
      }
    },
    "colab": {
      "name": "reservoirNet (2).ipynb",
      "provenance": [],
      "collapsed_sections": []
    },
    "accelerator": "GPU"
  },
  "cells": [
    {
      "cell_type": "code",
      "metadata": {
        "id": "E9XpqxcfSDMG",
        "colab_type": "code",
        "outputId": "1a85f151-8235-4cdf-c2de-de46a0272db0",
        "colab": {
          "base_uri": "https://localhost:8080/",
          "height": 127
        }
      },
      "source": [
        "from google.colab import drive\n",
        "drive.mount('/content/drive')"
      ],
      "execution_count": 0,
      "outputs": [
        {
          "output_type": "stream",
          "text": [
            "Go to this URL in a browser: https://accounts.google.com/o/oauth2/auth?client_id=947318989803-6bn6qk8qdgf4n4g3pfee6491hc0brc4i.apps.googleusercontent.com&redirect_uri=urn%3aietf%3awg%3aoauth%3a2.0%3aoob&response_type=code&scope=email%20https%3a%2f%2fwww.googleapis.com%2fauth%2fdocs.test%20https%3a%2f%2fwww.googleapis.com%2fauth%2fdrive%20https%3a%2f%2fwww.googleapis.com%2fauth%2fdrive.photos.readonly%20https%3a%2f%2fwww.googleapis.com%2fauth%2fpeopleapi.readonly\n",
            "\n",
            "Enter your authorization code:\n",
            "··········\n",
            "Mounted at /content/drive\n"
          ],
          "name": "stdout"
        }
      ]
    },
    {
      "cell_type": "code",
      "metadata": {
        "id": "H5Fr1HrmSDxa",
        "colab_type": "code",
        "outputId": "84d612de-c1ad-4225-c959-5b4ffc8663a3",
        "colab": {
          "base_uri": "https://localhost:8080/",
          "height": 35
        }
      },
      "source": [
        "cd drive/My\\ Drive"
      ],
      "execution_count": 0,
      "outputs": [
        {
          "output_type": "stream",
          "text": [
            "/content/drive/My Drive/reservoirNet\n"
          ],
          "name": "stdout"
        }
      ]
    },
    {
      "cell_type": "code",
      "metadata": {
        "id": "qVqji5uesMXQ",
        "colab_type": "code",
        "outputId": "715427b7-f5f3-493c-cc87-eb4d7858c78c",
        "colab": {
          "base_uri": "https://localhost:8080/",
          "height": 881
        }
      },
      "source": [
        "!pip install bindsnet"
      ],
      "execution_count": 0,
      "outputs": [
        {
          "output_type": "stream",
          "text": [
            "Collecting bindsnet\n",
            "\u001b[?25l  Downloading https://files.pythonhosted.org/packages/6e/47/6eb9adae6a0d24a3f8ef5059192bfe035f0a3b1fd58ce9e30e9e8f74df9f/bindsnet-0.2.7.tar.gz (70kB)\n",
            "\u001b[K     |████████████████████████████████| 71kB 2.3MB/s \n",
            "\u001b[?25hRequirement already satisfied: numpy>=1.14.2 in /usr/local/lib/python3.6/dist-packages (from bindsnet) (1.17.5)\n",
            "Requirement already satisfied: torch>=1.2.0 in /usr/local/lib/python3.6/dist-packages (from bindsnet) (1.4.0)\n",
            "Requirement already satisfied: torchvision>=0.4.0 in /usr/local/lib/python3.6/dist-packages (from bindsnet) (0.5.0)\n",
            "Collecting tensorboardX>=1.7\n",
            "\u001b[?25l  Downloading https://files.pythonhosted.org/packages/35/f1/5843425495765c8c2dd0784a851a93ef204d314fc87bcc2bbb9f662a3ad1/tensorboardX-2.0-py2.py3-none-any.whl (195kB)\n",
            "\u001b[K     |████████████████████████████████| 204kB 8.0MB/s \n",
            "\u001b[?25hRequirement already satisfied: tqdm>=4.19.9 in /usr/local/lib/python3.6/dist-packages (from bindsnet) (4.28.1)\n",
            "Requirement already satisfied: matplotlib>=2.1.0 in /usr/local/lib/python3.6/dist-packages (from bindsnet) (3.1.3)\n",
            "Requirement already satisfied: gym>=0.10.4 in /usr/local/lib/python3.6/dist-packages (from bindsnet) (0.15.6)\n",
            "Requirement already satisfied: scikit_image>=0.13.1 in /usr/local/lib/python3.6/dist-packages (from bindsnet) (0.16.2)\n",
            "Requirement already satisfied: scikit_learn>=0.19.1 in /usr/local/lib/python3.6/dist-packages (from bindsnet) (0.22.1)\n",
            "Requirement already satisfied: opencv-python>=3.4.0.12 in /usr/local/lib/python3.6/dist-packages (from bindsnet) (4.1.2.30)\n",
            "Requirement already satisfied: pytest>=3.4.0 in /usr/local/lib/python3.6/dist-packages (from bindsnet) (3.6.4)\n",
            "Requirement already satisfied: scipy>=1.1.0 in /usr/local/lib/python3.6/dist-packages (from bindsnet) (1.4.1)\n",
            "Requirement already satisfied: cython>=0.28.5 in /usr/local/lib/python3.6/dist-packages (from bindsnet) (0.29.15)\n",
            "Requirement already satisfied: pandas>=0.23.4 in /usr/local/lib/python3.6/dist-packages (from bindsnet) (0.25.3)\n",
            "Requirement already satisfied: pillow>=4.1.1 in /usr/local/lib/python3.6/dist-packages (from torchvision>=0.4.0->bindsnet) (6.2.2)\n",
            "Requirement already satisfied: six in /usr/local/lib/python3.6/dist-packages (from torchvision>=0.4.0->bindsnet) (1.12.0)\n",
            "Requirement already satisfied: protobuf>=3.8.0 in /usr/local/lib/python3.6/dist-packages (from tensorboardX>=1.7->bindsnet) (3.10.0)\n",
            "Requirement already satisfied: kiwisolver>=1.0.1 in /usr/local/lib/python3.6/dist-packages (from matplotlib>=2.1.0->bindsnet) (1.1.0)\n",
            "Requirement already satisfied: cycler>=0.10 in /usr/local/lib/python3.6/dist-packages (from matplotlib>=2.1.0->bindsnet) (0.10.0)\n",
            "Requirement already satisfied: python-dateutil>=2.1 in /usr/local/lib/python3.6/dist-packages (from matplotlib>=2.1.0->bindsnet) (2.6.1)\n",
            "Requirement already satisfied: pyparsing!=2.0.4,!=2.1.2,!=2.1.6,>=2.0.1 in /usr/local/lib/python3.6/dist-packages (from matplotlib>=2.1.0->bindsnet) (2.4.6)\n",
            "Requirement already satisfied: cloudpickle~=1.2.0 in /usr/local/lib/python3.6/dist-packages (from gym>=0.10.4->bindsnet) (1.2.2)\n",
            "Requirement already satisfied: pyglet<=1.5.0,>=1.4.0 in /usr/local/lib/python3.6/dist-packages (from gym>=0.10.4->bindsnet) (1.4.10)\n",
            "Requirement already satisfied: PyWavelets>=0.4.0 in /usr/local/lib/python3.6/dist-packages (from scikit_image>=0.13.1->bindsnet) (1.1.1)\n",
            "Requirement already satisfied: imageio>=2.3.0 in /usr/local/lib/python3.6/dist-packages (from scikit_image>=0.13.1->bindsnet) (2.4.1)\n",
            "Requirement already satisfied: networkx>=2.0 in /usr/local/lib/python3.6/dist-packages (from scikit_image>=0.13.1->bindsnet) (2.4)\n",
            "Requirement already satisfied: joblib>=0.11 in /usr/local/lib/python3.6/dist-packages (from scikit_learn>=0.19.1->bindsnet) (0.14.1)\n",
            "Requirement already satisfied: setuptools in /usr/local/lib/python3.6/dist-packages (from pytest>=3.4.0->bindsnet) (45.2.0)\n",
            "Requirement already satisfied: atomicwrites>=1.0 in /usr/local/lib/python3.6/dist-packages (from pytest>=3.4.0->bindsnet) (1.3.0)\n",
            "Requirement already satisfied: py>=1.5.0 in /usr/local/lib/python3.6/dist-packages (from pytest>=3.4.0->bindsnet) (1.8.1)\n",
            "Requirement already satisfied: more-itertools>=4.0.0 in /usr/local/lib/python3.6/dist-packages (from pytest>=3.4.0->bindsnet) (8.2.0)\n",
            "Requirement already satisfied: attrs>=17.4.0 in /usr/local/lib/python3.6/dist-packages (from pytest>=3.4.0->bindsnet) (19.3.0)\n",
            "Requirement already satisfied: pluggy<0.8,>=0.5 in /usr/local/lib/python3.6/dist-packages (from pytest>=3.4.0->bindsnet) (0.7.1)\n",
            "Requirement already satisfied: pytz>=2017.2 in /usr/local/lib/python3.6/dist-packages (from pandas>=0.23.4->bindsnet) (2018.9)\n",
            "Requirement already satisfied: future in /usr/local/lib/python3.6/dist-packages (from pyglet<=1.5.0,>=1.4.0->gym>=0.10.4->bindsnet) (0.16.0)\n",
            "Requirement already satisfied: decorator>=4.3.0 in /usr/local/lib/python3.6/dist-packages (from networkx>=2.0->scikit_image>=0.13.1->bindsnet) (4.4.1)\n",
            "Building wheels for collected packages: bindsnet\n",
            "  Building wheel for bindsnet (setup.py) ... \u001b[?25l\u001b[?25hdone\n",
            "  Created wheel for bindsnet: filename=bindsnet-0.2.7-cp36-none-any.whl size=81417 sha256=38ff64ffe11e456d9eefc86f672e185b1639f27bdb86b310bf3cd46c6325b636\n",
            "  Stored in directory: /root/.cache/pip/wheels/d3/68/80/eca244a3d072961b5152d5906475ffc9d9b2453c9e060535e3\n",
            "Successfully built bindsnet\n",
            "Installing collected packages: tensorboardX, bindsnet\n",
            "Successfully installed bindsnet-0.2.7 tensorboardX-2.0\n"
          ],
          "name": "stdout"
        }
      ]
    },
    {
      "cell_type": "code",
      "metadata": {
        "id": "N1RJPs4dNBsY",
        "colab_type": "code",
        "colab": {}
      },
      "source": [
        "import os\n",
        "import numpy as np\n",
        "import pandas as pd\n",
        "import torch\n",
        "import torch.nn as nn\n",
        "import argparse\n",
        "import matplotlib.pyplot as plt\n",
        "\n",
        "from torchvision import transforms\n",
        "from tqdm import tqdm_notebook as tqdm\n",
        "from bindsnet.analysis.plotting import (\n",
        "    plot_input,\n",
        "    plot_spikes,\n",
        "    plot_voltages,\n",
        "    plot_weights,\n",
        ")\n",
        "from bindsnet.datasets import MNIST\n",
        "from bindsnet.encoding import PoissonEncoder\n",
        "from bindsnet.network import Network\n",
        "from bindsnet.network.nodes import Input\n",
        "\n",
        "# Build a simple two-layer, input-output network.\n",
        "from bindsnet.network.monitors import Monitor\n",
        "from bindsnet.network.nodes import LIFNodes\n",
        "from bindsnet.network.topology import Connection\n",
        "from bindsnet.utils import get_square_weights\n",
        "\n",
        "import easydict"
      ],
      "execution_count": 0,
      "outputs": []
    },
    {
      "cell_type": "code",
      "metadata": {
        "id": "5eJjUiup_Bxb",
        "colab_type": "code",
        "colab": {}
      },
      "source": [
        "args = easydict.EasyDict({\n",
        "        \"seed\": 0,\n",
        "        \"n_neurons\": 500,\n",
        "        \"n_epochs\": 75,\n",
        "        \"n_examples\": 1000,\n",
        "        \"n_workers\": -1,\n",
        "        \"time\": 251,\n",
        "        \"dt\": 1.0,\n",
        "        \"intensity\": 64,\n",
        "        \"progress_interval\": 10,\n",
        "        \"update_interval\": 250,\n",
        "        \"gpu\": True,\n",
        "        \"device_id\": 0,\n",
        "        \"train\": True\n",
        "})"
      ],
      "execution_count": 0,
      "outputs": []
    },
    {
      "cell_type": "code",
      "metadata": {
        "id": "5d4aAgJamR-t",
        "colab_type": "code",
        "colab": {}
      },
      "source": [
        "seed = args.seed\n",
        "n_neurons = args.n_neurons\n",
        "n_epochs = args.n_epochs\n",
        "n_examples = args.n_examples\n",
        "n_workers = args.n_workers\n",
        "time = args.time\n",
        "dt = args.dt\n",
        "intensity = args.intensity\n",
        "progress_interval = args.progress_interval\n",
        "update_interval = args.update_interval\n",
        "train = args.train\n",
        "gpu = args.gpu\n",
        "device_id = args.device_id\n",
        "n_iters = n_examples\n",
        "\n",
        "np.random.seed(seed)\n",
        "torch.cuda.manual_seed_all(seed)\n",
        "torch.manual_seed(seed)\n",
        "\n",
        "# Sets up Gpu use\n",
        "if gpu and torch.cuda.is_available():\n",
        "    torch.cuda.set_device(device_id)\n",
        "    # torch.set_default_tensor_type('torch.cuda.FloatTensor')\n",
        "else:\n",
        "    torch.manual_seed(seed)"
      ],
      "execution_count": 0,
      "outputs": []
    },
    {
      "cell_type": "code",
      "metadata": {
        "_cell_guid": "79c7e3d0-c299-4dcb-8224-4455121ee9b0",
        "_uuid": "d629ff2d2480ee46fbb7e2d37f6b5fab8052498a",
        "id": "RtYydfQ6sMXZ",
        "colab_type": "code",
        "outputId": "d5ec6a89-0479-4906-aebf-780bef8f11e4",
        "colab": {
          "base_uri": "https://localhost:8080/",
          "height": 67,
          "referenced_widgets": [
            "901e62ee42c04f3583d588e8c40a2c82",
            "df0647d2b1c04702ba54e073bee74e0c",
            "8e5a47d7dcd6426a8023592026f79064",
            "33e6f453905e4c539c6aee2fdb68743a",
            "8b9ea1b98fa04928bd9938b9d661413d",
            "a6b2c88603504f04920465a0fc79f915",
            "8a6779d14498467b82aa048c062d7144",
            "72f7bae058a34b73af9ee1ddb6cd322e"
          ]
        }
      },
      "source": [
        "# dt: the simulation time step\n",
        "network = Network(dt=dt)\n",
        "\n",
        "# 入力層\n",
        "inpt = Input(2, shape=(1,2))\n",
        "network.add_layer(inpt, name=\"I\")\n",
        "\n",
        "# リザーバー層\n",
        "output = LIFNodes(n_neurons, thresh=-52 + np.random.randn(n_neurons).astype(float))\n",
        "network.add_layer(output, name=\"O\")\n",
        "\n",
        "# 入力層->リザーバー層とリザーバー層->リザーバー層のコネクションを作成\n",
        "C1 = Connection(source=inpt, target=output, w=torch.randn(inpt.n, output.n))\n",
        "C2 = Connection(source=output, target=output, w=torch.randn(output.n, output.n))\n",
        "network.add_connection(C1, source=\"I\", target=\"O\")\n",
        "network.add_connection(C2, source=\"O\", target=\"O\")\n",
        "\n",
        "# スパイクのモニター(入力、リザーバー)\n",
        "spikes = {}\n",
        "for l in network.layers:\n",
        "    spikes[l] = Monitor(network.layers[l], [\"s\"], time=time)\n",
        "    network.add_monitor(spikes[l], name=\"%s_spikes\" % l)\n",
        "\n",
        "# ボルトのモニター(リザーバー)\n",
        "voltages = {\"O\": Monitor(network.layers[\"O\"], [\"v\"], time=time)}\n",
        "network.add_monitor(voltages[\"O\"], name=\"O_voltages\")\n",
        "\n",
        "# Directs network to GPU\n",
        "if gpu:\n",
        "    network.to(\"cuda\")\n",
        "\n",
        "# dataset作成\n",
        "class MyDataset(torch.utils.data.Dataset):\n",
        "    # xy.shape = (n, time, xy)\n",
        "    # F.shape = (n, time, F)\n",
        "    def __init__(self, xy, F, transform=None):\n",
        "        self.transform = transform\n",
        "        self.data_num = xy.shape[0]\n",
        "        self.data = xy\n",
        "        self.label = F\n",
        "\n",
        "    def __len__(self):\n",
        "        return self.data_num\n",
        "\n",
        "    def __getitem__(self, idx):\n",
        "        out_data = self.data[idx]\n",
        "        out_label =  self.label[idx]\n",
        "\n",
        "        if self.transform:\n",
        "            out_data = self.transform(out_data)\n",
        "\n",
        "        return out_data, out_label\n",
        "\n",
        "train_data = pd.read_csv(\"train_data.csv\", header = None)\n",
        "train_data = np.array(train_data)\n",
        "train_data = train_data.reshape((1000,251,4))\n",
        "# from IPython.core.debugger import Pdb; Pdb().set_trace()\n",
        "xy = train_data[:900,:,0:2]\n",
        "F = train_data[:900,:,2:4]\n",
        "dataset = MyDataset(xy, F, transform=None)\n",
        "\n",
        "# Create a dataloader to iterate and batch data\n",
        "dataloader = torch.utils.data.DataLoader(\n",
        "    dataset, batch_size=1, shuffle=True, num_workers=0, pin_memory=gpu\n",
        ")\n",
        "\n",
        "# Run training data on reservoir computer and store (spikes per neuron, label) per example.\n",
        "train_pairs = []\n",
        "pbar = tqdm(enumerate(dataloader))\n",
        "\n",
        "# \n",
        "# このループではトレーニングデータを作成していると考えて良い\n",
        "# q = int((bs-1)/2)\n",
        "for (i, dataPoint) in pbar:\n",
        "    # data, labelを取り出している\n",
        "    datum = dataPoint[0].view(time, 2).to(device_id)\n",
        "    label = dataPoint[1].view(time, 2)\n",
        "    pbar.set_description_str(\"Train progress: (%d / %d)\" % (i, n_iters))\n",
        "    # 時間を1つ進める\n",
        "    for j in range(50):\n",
        "      network.run(inputs={\"I\": datum[0]}, time=1, input_time_dim=1)\n",
        "    for j in range(251):\n",
        "      network.run(inputs={\"I\": datum[0]}, time=1, input_time_dim=1)\n",
        "#      # リザーバー層の状態とラベルをトレーニングデータとして保存\n",
        "      train_pairs.append([spikes[\"O\"].get(\"s\").sum(0), label[j]])\n",
        "      network.run(inputs={\"I\": datum[0]}, time=1, input_time_dim=1)\n",
        "#      for l in range(3):\n",
        "#        network.run(inputs={\"I\": datum[0]}, time=1, input_time_dim=1)\n",
        "      #network.run(inputs={\"I\": datum[0]}, time=1, input_time_dim=1)\n",
        "#    network.run(inputs={\"I\": datum}, time=251, input_time_dim=1)\n",
        "#    train_pairs.append([spikes[\"O\"].get(\"s\").sum(0), label])\n",
        "    network.reset_state_variables()\n",
        "#const = torch.tensor([1]).to(device_id)\n",
        "#for j in range(len(train_pairs)):\n",
        "#  train_pairs[j][0] = torch.cat([train_pairs[j][0][0],const])\n",
        "np.save(\"training_pairs\", train_pairs)\n",
        "# Define logistic regression model using PyTorch."
      ],
      "execution_count": 0,
      "outputs": [
        {
          "output_type": "display_data",
          "data": {
            "application/vnd.jupyter.widget-view+json": {
              "model_id": "901e62ee42c04f3583d588e8c40a2c82",
              "version_minor": 0,
              "version_major": 2
            },
            "text/plain": [
              "HBox(children=(IntProgress(value=1, bar_style='info', max=1), HTML(value='')))"
            ]
          },
          "metadata": {
            "tags": []
          }
        },
        {
          "output_type": "stream",
          "text": [
            "\n"
          ],
          "name": "stdout"
        }
      ]
    },
    {
      "cell_type": "code",
      "metadata": {
        "id": "4EbaUqtm97zb",
        "colab_type": "code",
        "outputId": "5edac80a-1d3a-4de3-a554-b20b63d8f19a",
        "colab": {
          "base_uri": "https://localhost:8080/",
          "height": 67,
          "referenced_widgets": [
            "be15cc4d21334a99be161a800d4a6e9e",
            "18dde3d2451a4d2abd87c1a07b96b178",
            "50b000ecf3c74e19bc144a5c80bc1335",
            "cad2b20dd0da4379a29c144348026b52",
            "78c1ce6bfde44a3a8db711a9456e2fd0",
            "d90bc20421774ae7aaeccdd59e821f31",
            "c7ad52c85340456da5efac73a78aeda7",
            "0e418bd6f5a24254b3dd187fa83a4043"
          ]
        }
      },
      "source": [
        "xy = train_data[900:,:,0:2]\n",
        "F = train_data[900:,:,2:4]\n",
        "dataset = MyDataset(xy, F, transform=None)\n",
        "\n",
        "# Create a dataloader to iterate and batch data\n",
        "dataloader = torch.utils.data.DataLoader(\n",
        "    dataset, batch_size=1, shuffle=True, num_workers=0, pin_memory=gpu\n",
        ")\n",
        "\n",
        "# Run training data on reservoir computer and store (spikes per neuron, label) per example.\n",
        "test_pairs = []\n",
        "pbar = tqdm(enumerate(dataloader))\n",
        "\n",
        "# \n",
        "# このループではトレーニングデータを作成していると考えて良い\n",
        "# q = int((bs-1)/2)\n",
        "for (i, dataPoint) in pbar:\n",
        "    # data, labelを取り出している\n",
        "    datum = dataPoint[0].view(time, 2).to(device_id)\n",
        "    label = dataPoint[1].view(time, 2)\n",
        "    pbar.set_description_str(\"Train progress: (%d / %d)\" % (i, n_iters))\n",
        "    # 時間を1つ進める\n",
        "    for j in range(50):\n",
        "      network.run(inputs={\"I\": datum[0]}, time=1, input_time_dim=1)\n",
        "    for j in range(251):\n",
        "      network.run(inputs={\"I\": datum[0]}, time=1, input_time_dim=1)\n",
        "#      # リザーバー層の状態とラベルをトレーニングデータとして保存\n",
        "      test_pairs.append([spikes[\"O\"].get(\"s\").sum(0), label[j]])\n",
        "      network.run(inputs={\"I\": datum[0]}, time=1, input_time_dim=1)\n",
        "#      for l in range(3):\n",
        "#        network.run(inputs={\"I\": datum[0]}, time=1, input_time_dim=1)\n",
        "      #network.run(inputs={\"I\": datum[0]}, time=1, input_time_dim=1)\n",
        "#    network.run(inputs={\"I\": datum}, time=251, input_time_dim=1)\n",
        "#    test_pairs.append([spikes[\"O\"].get(\"s\").sum(0), label])\n",
        "    network.reset_state_variables()\n",
        "#const = torch.tensor([1]).to(device_id)\n",
        "#for j in range(len(test_pairs)):\n",
        "#  test_pairs[j][0] = torch.cat([test_pairs[j][0][0],const])\n",
        "np.save(\"test_pairs\", test_pairs)\n",
        "# Define logistic regression model using PyTorch."
      ],
      "execution_count": 0,
      "outputs": [
        {
          "output_type": "display_data",
          "data": {
            "application/vnd.jupyter.widget-view+json": {
              "model_id": "be15cc4d21334a99be161a800d4a6e9e",
              "version_minor": 0,
              "version_major": 2
            },
            "text/plain": [
              "HBox(children=(IntProgress(value=1, bar_style='info', max=1), HTML(value='')))"
            ]
          },
          "metadata": {
            "tags": []
          }
        },
        {
          "output_type": "stream",
          "text": [
            "\n"
          ],
          "name": "stdout"
        }
      ]
    },
    {
      "cell_type": "code",
      "metadata": {
        "id": "I5S-3s9ZoHIN",
        "colab_type": "code",
        "outputId": "8bbfc7e4-bc01-4faf-f5f3-d13d8df8b072",
        "colab": {
          "base_uri": "https://localhost:8080/",
          "height": 141,
          "referenced_widgets": [
            "a887d651f7f14b85947082b5bf02ef37",
            "9e2030504a4a4412a44ddfe83c4c9ed4",
            "969f2e09fb7048279e3e4864d00f4d53",
            "fb6e9986b30f45eaa00ef8187a9a2cf5",
            "b4b5f15785ef4cd699cf4bdf0176ca1d",
            "db33b80f199343ffb26ff81f3d4cf09c",
            "c2f788b724664ac6a6a86d2e050b2255",
            "56270b22211342178d0610b7e0a5e7c1"
          ]
        }
      },
      "source": [
        "training_pairs = np.load(\"training_pairs.npy\", allow_pickle=True)\n",
        "# 回帰モデル\n",
        "class NN(nn.Module):\n",
        "    def __init__(self, input_size):\n",
        "        super(NN, self).__init__()\n",
        "        self.linear_1 = nn.Linear(input_size, 500)\n",
        "        self.linear_2 = nn.Linear(500, 2)\n",
        "        self.dropout1 = nn.Dropout(p=0.5)\n",
        "        self.dropout2 = nn.Dropout(p=0.5)\n",
        "        # self.linear = nn.Linear(input_size, 2)\n",
        "\n",
        "    def forward(self, x):\n",
        "        out = self.dropout1(x.float().view(-1))\n",
        "        out = torch.relu(self.linear_1(out))\n",
        "        out = self.dropout2(out)\n",
        "        out = self.linear_2(out)\n",
        "        return out\n",
        "\n",
        "# Create and train logistic regression model on reservoir outputs.\n",
        "model = NN(n_neurons).to(device_id)\n",
        "criterion = torch.nn.MSELoss(reduction=\"sum\")\n",
        "# optimizer = torch.optim.SGD(model.parameters(), lr=1e-4, momentum=0.9)\n",
        "optimizer = torch.optim.Adam(model.parameters(), lr=1e-4, betas=(0.5, 0.999))\n",
        "\n",
        "# Training the Model\n",
        "# 回帰モデルを先ほど生成したデータでトレーニング\n",
        "print(\"\\n Training the read out\")\n",
        "model.train()\n",
        "# model.load_state_dict(torch.load(\"model\"))\n",
        "pbar = tqdm(enumerate(range(n_epochs)))\n",
        "for epoch, _ in pbar:\n",
        "    avg_loss = 0\n",
        "    for i, (s, l) in enumerate(training_pairs):\n",
        "        # Forward + Backward + Optimize\n",
        "        optimizer.zero_grad()\n",
        "        outputs = model(s.view(-1))\n",
        "        label = l.float().to(device_id)\n",
        "        loss = criterion(outputs, label)\n",
        "        avg_loss += loss.data\n",
        "        loss.backward()\n",
        "        optimizer.step()\n",
        "    pbar.set_description_str(\n",
        "        \"Epoch: %d/%d, Loss: %.4f\"\n",
        "        % (epoch + 1, n_epochs, avg_loss / len(training_pairs))\n",
        "    )\n",
        "\n",
        "torch.save(model.state_dict(), \"model\")\n",
        "\"\"\"\n",
        "test_pairs = []\n",
        "pbar = tqdm(enumerate(dataloader))\n",
        "for (i, dataPoint) in pbar:\n",
        "    datum = dataPoint[0].view(time, 2)\n",
        "    labels = dataPoint[1].view(time, 2)\n",
        "    pbar.set_description_str(\"Testing progress: (%d / %d)\" % (i, n_iters))\n",
        "\n",
        "    for j in range(q, datum.shape[0]-q):\n",
        "        data = datum[ j-q : j+q+1 ].to(device_id)\n",
        "        data = data[np.newaxis,np.newaxis,:,:]\n",
        "        label = labels[j]\n",
        "        # 時間を1つ進める\n",
        "        network.run(inputs={\"I\": data}, time=1, input_time_dim=1)\n",
        "        # リザーバー層の状態とラベルをトレーニングデータとして保存\n",
        "        test_pairs.append([spikes[\"O\"].get(\"s\").sum(0), label])\n",
        "\n",
        "    network.reset_state_variables()\n",
        "\n",
        "np.save(\"test_pairs\", test_pairs)\n",
        "\"\"\"\n",
        "# test_pairs = np.load(\"test_pairs.npy\", allow_pickle=True)"
      ],
      "execution_count": 0,
      "outputs": [
        {
          "output_type": "stream",
          "text": [
            "\n",
            " Training the read out\n"
          ],
          "name": "stdout"
        },
        {
          "output_type": "display_data",
          "data": {
            "application/vnd.jupyter.widget-view+json": {
              "model_id": "a887d651f7f14b85947082b5bf02ef37",
              "version_minor": 0,
              "version_major": 2
            },
            "text/plain": [
              "HBox(children=(IntProgress(value=1, bar_style='info', max=1), HTML(value='')))"
            ]
          },
          "metadata": {
            "tags": []
          }
        },
        {
          "output_type": "stream",
          "text": [
            "\n"
          ],
          "name": "stdout"
        },
        {
          "output_type": "execute_result",
          "data": {
            "text/plain": [
              "'\\ntest_pairs = []\\npbar = tqdm(enumerate(dataloader))\\nfor (i, dataPoint) in pbar:\\n    datum = dataPoint[0].view(time, 2)\\n    labels = dataPoint[1].view(time, 2)\\n    pbar.set_description_str(\"Testing progress: (%d / %d)\" % (i, n_iters))\\n\\n    for j in range(q, datum.shape[0]-q):\\n        data = datum[ j-q : j+q+1 ].to(device_id)\\n        data = data[np.newaxis,np.newaxis,:,:]\\n        label = labels[j]\\n        # 時間を1つ進める\\n        network.run(inputs={\"I\": data}, time=1, input_time_dim=1)\\n        # リザーバー層の状態とラベルをトレーニングデータとして保存\\n        test_pairs.append([spikes[\"O\"].get(\"s\").sum(0), label])\\n\\n    network.reset_state_variables()\\n\\nnp.save(\"test_pairs\", test_pairs)\\n'"
            ]
          },
          "metadata": {
            "tags": []
          },
          "execution_count": 7
        }
      ]
    },
    {
      "cell_type": "code",
      "metadata": {
        "id": "FSryFpilpDv_",
        "colab_type": "code",
        "colab": {}
      },
      "source": [
        "model.eval()\n",
        "loss, total = 0, 0\n",
        "k = 0\n",
        "test_pairs = np.load(\"test_pairs.npy\", allow_pickle=True)\n",
        "outs = np.zeros([251,2])\n",
        "labels = np.zeros([251,2])\n",
        "for s, label in test_pairs:\n",
        "    k += 1\n",
        "    outputs = model(s)\n",
        "    outs[k-1,:] = np.array(outputs.cpu().detach().numpy())\n",
        "    labels[k-1,:] = np.array(label.cpu().detach().numpy())\n",
        "    loss += criterion(outputs, label.float().to(device_id)).data\n",
        "    total += 1\n",
        "    #if k == 251:\n",
        "    #  break"
      ],
      "execution_count": 0,
      "outputs": []
    },
    {
      "cell_type": "code",
      "metadata": {
        "id": "xUrabBO08Bb8",
        "colab_type": "code",
        "outputId": "b7908209-0324-4560-8f7e-413022a7520a",
        "colab": {
          "base_uri": "https://localhost:8080/",
          "height": 552
        }
      },
      "source": [
        "plt.figure(dpi=150)\n",
        "plt.plot(outs[:,0])\n",
        "plt.plot(labels[:,0])"
      ],
      "execution_count": 0,
      "outputs": [
        {
          "output_type": "execute_result",
          "data": {
            "text/plain": [
              "[<matplotlib.lines.Line2D at 0x7faeb6cbf2e8>]"
            ]
          },
          "metadata": {
            "tags": []
          },
          "execution_count": 10
        },
        {
          "output_type": "display_data",
          "data": {
            "image/png": "iVBORw0KGgoAAAANSUhEUgAAAwQAAAIFCAYAAABs0DrzAAAABHNCSVQICAgIfAhkiAAAAAlwSFlz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\nGCIowgAAAABJRU5ErkJggg==\n",
            "text/plain": [
              "<Figure size 900x600 with 1 Axes>"
            ]
          },
          "metadata": {
            "tags": []
          }
        }
      ]
    },
    {
      "cell_type": "code",
      "metadata": {
        "id": "ZBNtlkrf8IGl",
        "colab_type": "code",
        "outputId": "3ac0a9d3-e252-4499-8900-68da6e02ab57",
        "colab": {
          "base_uri": "https://localhost:8080/",
          "height": 552
        }
      },
      "source": [
        "plt.figure(dpi=150)\n",
        "plt.plot(outs[:,1])\n",
        "plt.plot(labels[:,1])"
      ],
      "execution_count": 0,
      "outputs": [
        {
          "output_type": "execute_result",
          "data": {
            "text/plain": [
              "[<matplotlib.lines.Line2D at 0x7faea29d1cf8>]"
            ]
          },
          "metadata": {
            "tags": []
          },
          "execution_count": 11
        },
        {
          "output_type": "display_data",
          "data": {
            "image/png": "iVBORw0KGgoAAAANSUhEUgAAAxgAAAIFCAYAAABRQluVAAAABHNCSVQICAgIfAhkiAAAAAlwSFlz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\nJEmSGmPAkCRJktSY/x89UDKjxWWwBQAAAABJRU5ErkJggg==\n",
            "text/plain": [
              "<Figure size 900x600 with 1 Axes>"
            ]
          },
          "metadata": {
            "tags": []
          }
        }
      ]
    },
    {
      "cell_type": "code",
      "metadata": {
        "id": "hllb0D9emNcw",
        "colab_type": "code",
        "outputId": "664180f8-28cb-40e4-9e1e-08e0ed10ce49",
        "colab": {
          "base_uri": "https://localhost:8080/",
          "height": 190
        }
      },
      "source": [
        "np.savetxt(\"test.csv\",outs)\n",
        "np.savetxt(\"ans.csv\",labels)"
      ],
      "execution_count": 0,
      "outputs": [
        {
          "output_type": "error",
          "ename": "NameError",
          "evalue": "ignored",
          "traceback": [
            "\u001b[0;31m---------------------------------------------------------------------------\u001b[0m",
            "\u001b[0;31mNameError\u001b[0m                                 Traceback (most recent call last)",
            "\u001b[0;32m<ipython-input-1-51a6074fbc84>\u001b[0m in \u001b[0;36m<module>\u001b[0;34m()\u001b[0m\n\u001b[0;32m----> 1\u001b[0;31m \u001b[0mnp\u001b[0m\u001b[0;34m.\u001b[0m\u001b[0msavetxt\u001b[0m\u001b[0;34m(\u001b[0m\u001b[0;34m\"test.csv\"\u001b[0m\u001b[0;34m,\u001b[0m\u001b[0mouts\u001b[0m\u001b[0;34m)\u001b[0m\u001b[0;34m\u001b[0m\u001b[0;34m\u001b[0m\u001b[0m\n\u001b[0m\u001b[1;32m      2\u001b[0m \u001b[0mnp\u001b[0m\u001b[0;34m.\u001b[0m\u001b[0msavetxt\u001b[0m\u001b[0;34m(\u001b[0m\u001b[0;34m\"ans.csv\"\u001b[0m\u001b[0;34m,\u001b[0m\u001b[0mlabels\u001b[0m\u001b[0;34m)\u001b[0m\u001b[0;34m\u001b[0m\u001b[0;34m\u001b[0m\u001b[0m\n",
            "\u001b[0;31mNameError\u001b[0m: name 'np' is not defined"
          ]
        }
      ]
    },
    {
      "cell_type": "code",
      "metadata": {
        "id": "Jp7PLHjy9UFr",
        "colab_type": "code",
        "colab": {}
      },
      "source": [
        "outs"
      ],
      "execution_count": 0,
      "outputs": []
    },
    {
      "cell_type": "code",
      "metadata": {
        "colab_type": "code",
        "id": "Y_LCEC56lZkP",
        "colab": {}
      },
      "source": [
        "np.save(\"training_pairs\", training_pairs)\n",
        "np.save(\"test_pairs\", test_pairs)"
      ],
      "execution_count": 0,
      "outputs": []
    }
  ]
}
>>>>>>> def69c6dd54649cf932391d20783e2221a30ccfd
