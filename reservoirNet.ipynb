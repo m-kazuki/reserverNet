{
  "nbformat": 4,
  "nbformat_minor": 0,
  "metadata": {
    "kernelspec": {
      "name": "python3",
      "display_name": "Python 3"
    },
    "language_info": {
      "codemirror_mode": {
        "name": "ipython",
        "version": 3
      },
      "file_extension": ".py",
      "mimetype": "text/x-python",
      "name": "python",
      "nbconvert_exporter": "python",
      "pygments_lexer": "ipython3",
      "version": "3.6.6"
    },
    "widgets": {
      "application/vnd.jupyter.widget-state+json": {
        "a3491f047e6548f28071b5f109aa065f": {
          "model_module": "@jupyter-widgets/controls",
          "model_name": "HBoxModel",
          "state": {
            "_view_name": "HBoxView",
            "_dom_classes": [],
            "_model_name": "HBoxModel",
            "_view_module": "@jupyter-widgets/controls",
            "_model_module_version": "1.5.0",
            "_view_count": null,
            "_view_module_version": "1.5.0",
            "box_style": "",
            "layout": "IPY_MODEL_dc66181aa27f4389af1120528ad78104",
            "_model_module": "@jupyter-widgets/controls",
            "children": [
              "IPY_MODEL_8dd96e5babc24552b54faa35ca9bcc38",
              "IPY_MODEL_2fd149ea6c264a1c94501a3a6fad0564"
            ]
          }
        },
        "dc66181aa27f4389af1120528ad78104": {
          "model_module": "@jupyter-widgets/base",
          "model_name": "LayoutModel",
          "state": {
            "_view_name": "LayoutView",
            "grid_template_rows": null,
            "right": null,
            "justify_content": null,
            "_view_module": "@jupyter-widgets/base",
            "overflow": null,
            "_model_module_version": "1.2.0",
            "_view_count": null,
            "flex_flow": null,
            "width": null,
            "min_width": null,
            "border": null,
            "align_items": null,
            "bottom": null,
            "_model_module": "@jupyter-widgets/base",
            "top": null,
            "grid_column": null,
            "overflow_y": null,
            "overflow_x": null,
            "grid_auto_flow": null,
            "grid_area": null,
            "grid_template_columns": null,
            "flex": null,
            "_model_name": "LayoutModel",
            "justify_items": null,
            "grid_row": null,
            "max_height": null,
            "align_content": null,
            "visibility": null,
            "align_self": null,
            "height": null,
            "min_height": null,
            "padding": null,
            "grid_auto_rows": null,
            "grid_gap": null,
            "max_width": null,
            "order": null,
            "_view_module_version": "1.2.0",
            "grid_template_areas": null,
            "object_position": null,
            "object_fit": null,
            "grid_auto_columns": null,
            "margin": null,
            "display": null,
            "left": null
          }
        },
        "8dd96e5babc24552b54faa35ca9bcc38": {
          "model_module": "@jupyter-widgets/controls",
          "model_name": "IntProgressModel",
          "state": {
            "_view_name": "ProgressView",
            "style": "IPY_MODEL_8862a1ae3c66429f9e496e4f419408ae",
            "_dom_classes": [],
            "description": "",
            "_model_name": "IntProgressModel",
            "bar_style": "success",
            "max": 1,
            "_view_module": "@jupyter-widgets/controls",
            "_model_module_version": "1.5.0",
            "value": 1,
            "_view_count": null,
            "_view_module_version": "1.5.0",
            "orientation": "horizontal",
            "min": 0,
            "description_tooltip": null,
            "_model_module": "@jupyter-widgets/controls",
            "layout": "IPY_MODEL_a39971a5d55844aba7a68fdd7e304631"
          }
        },
        "2fd149ea6c264a1c94501a3a6fad0564": {
          "model_module": "@jupyter-widgets/controls",
          "model_name": "HTMLModel",
          "state": {
            "_view_name": "HTMLView",
            "style": "IPY_MODEL_9f8df752edad4c13a0325cc27e69f107",
            "_dom_classes": [],
            "description": "",
            "_model_name": "HTMLModel",
            "placeholder": "​",
            "_view_module": "@jupyter-widgets/controls",
            "_model_module_version": "1.5.0",
            "value": "Train progress: (999 / 1000): 1000it [00:03, 291.69it/s]",
            "_view_count": null,
            "_view_module_version": "1.5.0",
            "description_tooltip": null,
            "_model_module": "@jupyter-widgets/controls",
            "layout": "IPY_MODEL_c8a548dcde3f4d5397495889511d6ca5"
          }
        },
        "8862a1ae3c66429f9e496e4f419408ae": {
          "model_module": "@jupyter-widgets/controls",
          "model_name": "ProgressStyleModel",
          "state": {
            "_view_name": "StyleView",
            "_model_name": "ProgressStyleModel",
            "description_width": "",
            "_view_module": "@jupyter-widgets/base",
            "_model_module_version": "1.5.0",
            "_view_count": null,
            "_view_module_version": "1.2.0",
            "bar_color": null,
            "_model_module": "@jupyter-widgets/controls"
          }
        },
        "a39971a5d55844aba7a68fdd7e304631": {
          "model_module": "@jupyter-widgets/base",
          "model_name": "LayoutModel",
          "state": {
            "_view_name": "LayoutView",
            "grid_template_rows": null,
            "right": null,
            "justify_content": null,
            "_view_module": "@jupyter-widgets/base",
            "overflow": null,
            "_model_module_version": "1.2.0",
            "_view_count": null,
            "flex_flow": null,
            "width": null,
            "min_width": null,
            "border": null,
            "align_items": null,
            "bottom": null,
            "_model_module": "@jupyter-widgets/base",
            "top": null,
            "grid_column": null,
            "overflow_y": null,
            "overflow_x": null,
            "grid_auto_flow": null,
            "grid_area": null,
            "grid_template_columns": null,
            "flex": null,
            "_model_name": "LayoutModel",
            "justify_items": null,
            "grid_row": null,
            "max_height": null,
            "align_content": null,
            "visibility": null,
            "align_self": null,
            "height": null,
            "min_height": null,
            "padding": null,
            "grid_auto_rows": null,
            "grid_gap": null,
            "max_width": null,
            "order": null,
            "_view_module_version": "1.2.0",
            "grid_template_areas": null,
            "object_position": null,
            "object_fit": null,
            "grid_auto_columns": null,
            "margin": null,
            "display": null,
            "left": null
          }
        },
        "9f8df752edad4c13a0325cc27e69f107": {
          "model_module": "@jupyter-widgets/controls",
          "model_name": "DescriptionStyleModel",
          "state": {
            "_view_name": "StyleView",
            "_model_name": "DescriptionStyleModel",
            "description_width": "",
            "_view_module": "@jupyter-widgets/base",
            "_model_module_version": "1.5.0",
            "_view_count": null,
            "_view_module_version": "1.2.0",
            "_model_module": "@jupyter-widgets/controls"
          }
        },
        "c8a548dcde3f4d5397495889511d6ca5": {
          "model_module": "@jupyter-widgets/base",
          "model_name": "LayoutModel",
          "state": {
            "_view_name": "LayoutView",
            "grid_template_rows": null,
            "right": null,
            "justify_content": null,
            "_view_module": "@jupyter-widgets/base",
            "overflow": null,
            "_model_module_version": "1.2.0",
            "_view_count": null,
            "flex_flow": null,
            "width": null,
            "min_width": null,
            "border": null,
            "align_items": null,
            "bottom": null,
            "_model_module": "@jupyter-widgets/base",
            "top": null,
            "grid_column": null,
            "overflow_y": null,
            "overflow_x": null,
            "grid_auto_flow": null,
            "grid_area": null,
            "grid_template_columns": null,
            "flex": null,
            "_model_name": "LayoutModel",
            "justify_items": null,
            "grid_row": null,
            "max_height": null,
            "align_content": null,
            "visibility": null,
            "align_self": null,
            "height": null,
            "min_height": null,
            "padding": null,
            "grid_auto_rows": null,
            "grid_gap": null,
            "max_width": null,
            "order": null,
            "_view_module_version": "1.2.0",
            "grid_template_areas": null,
            "object_position": null,
            "object_fit": null,
            "grid_auto_columns": null,
            "margin": null,
            "display": null,
            "left": null
          }
        },
        "fd08bacf0a9e438d8d7ae85e6758b124": {
          "model_module": "@jupyter-widgets/controls",
          "model_name": "HBoxModel",
          "state": {
            "_view_name": "HBoxView",
            "_dom_classes": [],
            "_model_name": "HBoxModel",
            "_view_module": "@jupyter-widgets/controls",
            "_model_module_version": "1.5.0",
            "_view_count": null,
            "_view_module_version": "1.5.0",
            "box_style": "",
            "layout": "IPY_MODEL_722b3aeaf9744b3995885f7386407e25",
            "_model_module": "@jupyter-widgets/controls",
            "children": [
              "IPY_MODEL_3cedcbc5a93b4f49af8bbf09df4c1a3f",
              "IPY_MODEL_f54f9d8f8a3741eaae1ce6aacdbb7761"
            ]
          }
        },
        "722b3aeaf9744b3995885f7386407e25": {
          "model_module": "@jupyter-widgets/base",
          "model_name": "LayoutModel",
          "state": {
            "_view_name": "LayoutView",
            "grid_template_rows": null,
            "right": null,
            "justify_content": null,
            "_view_module": "@jupyter-widgets/base",
            "overflow": null,
            "_model_module_version": "1.2.0",
            "_view_count": null,
            "flex_flow": null,
            "width": null,
            "min_width": null,
            "border": null,
            "align_items": null,
            "bottom": null,
            "_model_module": "@jupyter-widgets/base",
            "top": null,
            "grid_column": null,
            "overflow_y": null,
            "overflow_x": null,
            "grid_auto_flow": null,
            "grid_area": null,
            "grid_template_columns": null,
            "flex": null,
            "_model_name": "LayoutModel",
            "justify_items": null,
            "grid_row": null,
            "max_height": null,
            "align_content": null,
            "visibility": null,
            "align_self": null,
            "height": null,
            "min_height": null,
            "padding": null,
            "grid_auto_rows": null,
            "grid_gap": null,
            "max_width": null,
            "order": null,
            "_view_module_version": "1.2.0",
            "grid_template_areas": null,
            "object_position": null,
            "object_fit": null,
            "grid_auto_columns": null,
            "margin": null,
            "display": null,
            "left": null
          }
        },
        "3cedcbc5a93b4f49af8bbf09df4c1a3f": {
          "model_module": "@jupyter-widgets/controls",
          "model_name": "IntProgressModel",
          "state": {
            "_view_name": "ProgressView",
            "style": "IPY_MODEL_479f8dbd56d44112b7cb4da91dc2cb9d",
            "_dom_classes": [],
            "description": "",
            "_model_name": "IntProgressModel",
            "bar_style": "success",
            "max": 1,
            "_view_module": "@jupyter-widgets/controls",
            "_model_module_version": "1.5.0",
            "value": 1,
            "_view_count": null,
            "_view_module_version": "1.5.0",
            "orientation": "horizontal",
            "min": 0,
            "description_tooltip": null,
            "_model_module": "@jupyter-widgets/controls",
            "layout": "IPY_MODEL_36d08755270c4e6093d154d9aec6da8f"
          }
        },
        "f54f9d8f8a3741eaae1ce6aacdbb7761": {
          "model_module": "@jupyter-widgets/controls",
          "model_name": "HTMLModel",
          "state": {
            "_view_name": "HTMLView",
            "style": "IPY_MODEL_3791cd41554c44f88abd5ea254ecb807",
            "_dom_classes": [],
            "description": "",
            "_model_name": "HTMLModel",
            "placeholder": "​",
            "_view_module": "@jupyter-widgets/controls",
            "_model_module_version": "1.5.0",
            "value": "Epoch: 100/100, Loss: 122.9475: 100it [01:28,  1.13it/s]",
            "_view_count": null,
            "_view_module_version": "1.5.0",
            "description_tooltip": null,
            "_model_module": "@jupyter-widgets/controls",
            "layout": "IPY_MODEL_eea00d30d0e6438cb20ab8168186647e"
          }
        },
        "479f8dbd56d44112b7cb4da91dc2cb9d": {
          "model_module": "@jupyter-widgets/controls",
          "model_name": "ProgressStyleModel",
          "state": {
            "_view_name": "StyleView",
            "_model_name": "ProgressStyleModel",
            "description_width": "",
            "_view_module": "@jupyter-widgets/base",
            "_model_module_version": "1.5.0",
            "_view_count": null,
            "_view_module_version": "1.2.0",
            "bar_color": null,
            "_model_module": "@jupyter-widgets/controls"
          }
        },
        "36d08755270c4e6093d154d9aec6da8f": {
          "model_module": "@jupyter-widgets/base",
          "model_name": "LayoutModel",
          "state": {
            "_view_name": "LayoutView",
            "grid_template_rows": null,
            "right": null,
            "justify_content": null,
            "_view_module": "@jupyter-widgets/base",
            "overflow": null,
            "_model_module_version": "1.2.0",
            "_view_count": null,
            "flex_flow": null,
            "width": null,
            "min_width": null,
            "border": null,
            "align_items": null,
            "bottom": null,
            "_model_module": "@jupyter-widgets/base",
            "top": null,
            "grid_column": null,
            "overflow_y": null,
            "overflow_x": null,
            "grid_auto_flow": null,
            "grid_area": null,
            "grid_template_columns": null,
            "flex": null,
            "_model_name": "LayoutModel",
            "justify_items": null,
            "grid_row": null,
            "max_height": null,
            "align_content": null,
            "visibility": null,
            "align_self": null,
            "height": null,
            "min_height": null,
            "padding": null,
            "grid_auto_rows": null,
            "grid_gap": null,
            "max_width": null,
            "order": null,
            "_view_module_version": "1.2.0",
            "grid_template_areas": null,
            "object_position": null,
            "object_fit": null,
            "grid_auto_columns": null,
            "margin": null,
            "display": null,
            "left": null
          }
        },
        "3791cd41554c44f88abd5ea254ecb807": {
          "model_module": "@jupyter-widgets/controls",
          "model_name": "DescriptionStyleModel",
          "state": {
            "_view_name": "StyleView",
            "_model_name": "DescriptionStyleModel",
            "description_width": "",
            "_view_module": "@jupyter-widgets/base",
            "_model_module_version": "1.5.0",
            "_view_count": null,
            "_view_module_version": "1.2.0",
            "_model_module": "@jupyter-widgets/controls"
          }
        },
        "eea00d30d0e6438cb20ab8168186647e": {
          "model_module": "@jupyter-widgets/base",
          "model_name": "LayoutModel",
          "state": {
            "_view_name": "LayoutView",
            "grid_template_rows": null,
            "right": null,
            "justify_content": null,
            "_view_module": "@jupyter-widgets/base",
            "overflow": null,
            "_model_module_version": "1.2.0",
            "_view_count": null,
            "flex_flow": null,
            "width": null,
            "min_width": null,
            "border": null,
            "align_items": null,
            "bottom": null,
            "_model_module": "@jupyter-widgets/base",
            "top": null,
            "grid_column": null,
            "overflow_y": null,
            "overflow_x": null,
            "grid_auto_flow": null,
            "grid_area": null,
            "grid_template_columns": null,
            "flex": null,
            "_model_name": "LayoutModel",
            "justify_items": null,
            "grid_row": null,
            "max_height": null,
            "align_content": null,
            "visibility": null,
            "align_self": null,
            "height": null,
            "min_height": null,
            "padding": null,
            "grid_auto_rows": null,
            "grid_gap": null,
            "max_width": null,
            "order": null,
            "_view_module_version": "1.2.0",
            "grid_template_areas": null,
            "object_position": null,
            "object_fit": null,
            "grid_auto_columns": null,
            "margin": null,
            "display": null,
            "left": null
          }
        },
        "11978b9cbdd0442884d273bd00dc978f": {
          "model_module": "@jupyter-widgets/controls",
          "model_name": "HBoxModel",
          "state": {
            "_view_name": "HBoxView",
            "_dom_classes": [],
            "_model_name": "HBoxModel",
            "_view_module": "@jupyter-widgets/controls",
            "_model_module_version": "1.5.0",
            "_view_count": null,
            "_view_module_version": "1.5.0",
            "box_style": "",
            "layout": "IPY_MODEL_acfbd3eac1304048bda8ec91f60b38c9",
            "_model_module": "@jupyter-widgets/controls",
            "children": [
              "IPY_MODEL_25bffd711fad49409e21f8ca9843bc00",
              "IPY_MODEL_884af06f676b4cabbc7022b2782903ae"
            ]
          }
        },
        "acfbd3eac1304048bda8ec91f60b38c9": {
          "model_module": "@jupyter-widgets/base",
          "model_name": "LayoutModel",
          "state": {
            "_view_name": "LayoutView",
            "grid_template_rows": null,
            "right": null,
            "justify_content": null,
            "_view_module": "@jupyter-widgets/base",
            "overflow": null,
            "_model_module_version": "1.2.0",
            "_view_count": null,
            "flex_flow": null,
            "width": null,
            "min_width": null,
            "border": null,
            "align_items": null,
            "bottom": null,
            "_model_module": "@jupyter-widgets/base",
            "top": null,
            "grid_column": null,
            "overflow_y": null,
            "overflow_x": null,
            "grid_auto_flow": null,
            "grid_area": null,
            "grid_template_columns": null,
            "flex": null,
            "_model_name": "LayoutModel",
            "justify_items": null,
            "grid_row": null,
            "max_height": null,
            "align_content": null,
            "visibility": null,
            "align_self": null,
            "height": null,
            "min_height": null,
            "padding": null,
            "grid_auto_rows": null,
            "grid_gap": null,
            "max_width": null,
            "order": null,
            "_view_module_version": "1.2.0",
            "grid_template_areas": null,
            "object_position": null,
            "object_fit": null,
            "grid_auto_columns": null,
            "margin": null,
            "display": null,
            "left": null
          }
        },
        "25bffd711fad49409e21f8ca9843bc00": {
          "model_module": "@jupyter-widgets/controls",
          "model_name": "IntProgressModel",
          "state": {
            "_view_name": "ProgressView",
            "style": "IPY_MODEL_1b12f8a462d84be5904d2c02cc3e5b80",
            "_dom_classes": [],
            "description": "",
            "_model_name": "IntProgressModel",
            "bar_style": "danger",
            "max": 1,
            "_view_module": "@jupyter-widgets/controls",
            "_model_module_version": "1.5.0",
            "value": 1,
            "_view_count": null,
            "_view_module_version": "1.5.0",
            "orientation": "horizontal",
            "min": 0,
            "description_tooltip": null,
            "_model_module": "@jupyter-widgets/controls",
            "layout": "IPY_MODEL_b288d77a32f74cb6abc71af08ccf8c94"
          }
        },
        "884af06f676b4cabbc7022b2782903ae": {
          "model_module": "@jupyter-widgets/controls",
          "model_name": "HTMLModel",
          "state": {
            "_view_name": "HTMLView",
            "style": "IPY_MODEL_80096528262d46de8af9cca494b44438",
            "_dom_classes": [],
            "description": "",
            "_model_name": "HTMLModel",
            "placeholder": "​",
            "_view_module": "@jupyter-widgets/controls",
            "_model_module_version": "1.5.0",
            "value": "Testing progress: (0 / 1000): 0it [00:00, ?it/s]",
            "_view_count": null,
            "_view_module_version": "1.5.0",
            "description_tooltip": null,
            "_model_module": "@jupyter-widgets/controls",
            "layout": "IPY_MODEL_078315fc6ecc4698b5d929e6c179ee4d"
          }
        },
        "1b12f8a462d84be5904d2c02cc3e5b80": {
          "model_module": "@jupyter-widgets/controls",
          "model_name": "ProgressStyleModel",
          "state": {
            "_view_name": "StyleView",
            "_model_name": "ProgressStyleModel",
            "description_width": "",
            "_view_module": "@jupyter-widgets/base",
            "_model_module_version": "1.5.0",
            "_view_count": null,
            "_view_module_version": "1.2.0",
            "bar_color": null,
            "_model_module": "@jupyter-widgets/controls"
          }
        },
        "b288d77a32f74cb6abc71af08ccf8c94": {
          "model_module": "@jupyter-widgets/base",
          "model_name": "LayoutModel",
          "state": {
            "_view_name": "LayoutView",
            "grid_template_rows": null,
            "right": null,
            "justify_content": null,
            "_view_module": "@jupyter-widgets/base",
            "overflow": null,
            "_model_module_version": "1.2.0",
            "_view_count": null,
            "flex_flow": null,
            "width": null,
            "min_width": null,
            "border": null,
            "align_items": null,
            "bottom": null,
            "_model_module": "@jupyter-widgets/base",
            "top": null,
            "grid_column": null,
            "overflow_y": null,
            "overflow_x": null,
            "grid_auto_flow": null,
            "grid_area": null,
            "grid_template_columns": null,
            "flex": null,
            "_model_name": "LayoutModel",
            "justify_items": null,
            "grid_row": null,
            "max_height": null,
            "align_content": null,
            "visibility": null,
            "align_self": null,
            "height": null,
            "min_height": null,
            "padding": null,
            "grid_auto_rows": null,
            "grid_gap": null,
            "max_width": null,
            "order": null,
            "_view_module_version": "1.2.0",
            "grid_template_areas": null,
            "object_position": null,
            "object_fit": null,
            "grid_auto_columns": null,
            "margin": null,
            "display": null,
            "left": null
          }
        },
        "80096528262d46de8af9cca494b44438": {
          "model_module": "@jupyter-widgets/controls",
          "model_name": "DescriptionStyleModel",
          "state": {
            "_view_name": "StyleView",
            "_model_name": "DescriptionStyleModel",
            "description_width": "",
            "_view_module": "@jupyter-widgets/base",
            "_model_module_version": "1.5.0",
            "_view_count": null,
            "_view_module_version": "1.2.0",
            "_model_module": "@jupyter-widgets/controls"
          }
        },
        "078315fc6ecc4698b5d929e6c179ee4d": {
          "model_module": "@jupyter-widgets/base",
          "model_name": "LayoutModel",
          "state": {
            "_view_name": "LayoutView",
            "grid_template_rows": null,
            "right": null,
            "justify_content": null,
            "_view_module": "@jupyter-widgets/base",
            "overflow": null,
            "_model_module_version": "1.2.0",
            "_view_count": null,
            "flex_flow": null,
            "width": null,
            "min_width": null,
            "border": null,
            "align_items": null,
            "bottom": null,
            "_model_module": "@jupyter-widgets/base",
            "top": null,
            "grid_column": null,
            "overflow_y": null,
            "overflow_x": null,
            "grid_auto_flow": null,
            "grid_area": null,
            "grid_template_columns": null,
            "flex": null,
            "_model_name": "LayoutModel",
            "justify_items": null,
            "grid_row": null,
            "max_height": null,
            "align_content": null,
            "visibility": null,
            "align_self": null,
            "height": null,
            "min_height": null,
            "padding": null,
            "grid_auto_rows": null,
            "grid_gap": null,
            "max_width": null,
            "order": null,
            "_view_module_version": "1.2.0",
            "grid_template_areas": null,
            "object_position": null,
            "object_fit": null,
            "grid_auto_columns": null,
            "margin": null,
            "display": null,
            "left": null
          }
        }
      }
    },
    "colab": {
      "name": "reserverNet.ipynb",
      "provenance": [],
      "collapsed_sections": [],
      "toc_visible": true
    },
    "accelerator": "GPU"
  },
  "cells": [
    {
      "cell_type": "code",
      "metadata": {
        "id": "E9XpqxcfSDMG",
        "colab_type": "code",
        "outputId": "b96488f2-5b09-4f29-d9df-2d7b8ea1c4f8",
        "colab": {
          "base_uri": "https://localhost:8080/",
          "height": 34
        }
      },
      "source": [
        "from google.colab import drive\n",
        "drive.mount('/content/drive')"
      ],
      "execution_count": 7,
      "outputs": [
        {
          "output_type": "stream",
          "text": [
            "Drive already mounted at /content/drive; to attempt to forcibly remount, call drive.mount(\"/content/drive\", force_remount=True).\n"
          ],
          "name": "stdout"
        }
      ]
    },
    {
      "cell_type": "code",
      "metadata": {
        "id": "H5Fr1HrmSDxa",
        "colab_type": "code",
        "outputId": "381a38ee-3761-416b-ecb3-8b6db0cc956d",
        "colab": {
          "base_uri": "https://localhost:8080/",
          "height": 51
        }
      },
      "source": [
        "cd drive/My\\ Drive"
      ],
      "execution_count": 8,
      "outputs": [
        {
          "output_type": "stream",
          "text": [
            "[Errno 2] No such file or directory: 'drive/My Drive'\n",
            "/content/drive/My Drive\n"
          ],
          "name": "stdout"
        }
      ]
    },
    {
      "cell_type": "code",
      "metadata": {
        "_cell_guid": "b1076dfc-b9ad-4769-8c92-a6c4dae69d19",
        "_uuid": "8f2839f25d086af736a60e9eeb907d3b93b6e0e5",
        "id": "a52Fvs2esMXL",
        "colab_type": "code",
        "colab": {}
      },
      "source": [
        "# This Python 3 environment comes with many helpful analytics libraries installed\n",
        "# It is defined by the kaggle/python docker image: https://github.com/kaggle/docker-python\n",
        "# For example, here's several helpful packages to load in \n",
        "\n",
        "import numpy as np # linear algebra\n",
        "import pandas as pd # data processing, CSV file I/O (e.g. pd.read_csv)\n",
        "\n",
        "# Input data files are available in the \"../input/\" directory.\n",
        "# For example, running this (by clicking run or pressing Shift+Enter) will list all files under the input directory\n",
        "\n",
        "import os\n",
        "for dirname, _, filenames in os.walk('/kaggle/input'):\n",
        "    for filename in filenames:\n",
        "        print(os.path.join(dirname, filename))\n",
        "\n",
        "# Any results you write to the current directory are saved as output."
      ],
      "execution_count": 0,
      "outputs": []
    },
    {
      "cell_type": "code",
      "metadata": {
        "id": "qVqji5uesMXQ",
        "colab_type": "code",
        "outputId": "fa0b71fb-6034-487b-ec37-3b615d1cbe4c",
        "colab": {
          "base_uri": "https://localhost:8080/",
          "height": 666
        }
      },
      "source": [
        "pip install bindsnet"
      ],
      "execution_count": 10,
      "outputs": [
        {
          "output_type": "stream",
          "text": [
            "Requirement already satisfied: bindsnet in /usr/local/lib/python3.6/dist-packages (0.2.7)\n",
            "Requirement already satisfied: cython>=0.28.5 in /usr/local/lib/python3.6/dist-packages (from bindsnet) (0.29.15)\n",
            "Requirement already satisfied: torchvision>=0.4.0 in /usr/local/lib/python3.6/dist-packages (from bindsnet) (0.5.0)\n",
            "Requirement already satisfied: opencv-python>=3.4.0.12 in /usr/local/lib/python3.6/dist-packages (from bindsnet) (4.1.2.30)\n",
            "Requirement already satisfied: torch>=1.2.0 in /usr/local/lib/python3.6/dist-packages (from bindsnet) (1.4.0)\n",
            "Requirement already satisfied: scipy>=1.1.0 in /usr/local/lib/python3.6/dist-packages (from bindsnet) (1.4.1)\n",
            "Requirement already satisfied: pandas>=0.23.4 in /usr/local/lib/python3.6/dist-packages (from bindsnet) (0.25.3)\n",
            "Requirement already satisfied: scikit-learn>=0.19.1 in /usr/local/lib/python3.6/dist-packages (from bindsnet) (0.22.1)\n",
            "Requirement already satisfied: gym>=0.10.4 in /usr/local/lib/python3.6/dist-packages (from bindsnet) (0.15.6)\n",
            "Requirement already satisfied: matplotlib>=2.1.0 in /usr/local/lib/python3.6/dist-packages (from bindsnet) (3.1.3)\n",
            "Requirement already satisfied: scikit-image>=0.13.1 in /usr/local/lib/python3.6/dist-packages (from bindsnet) (0.16.2)\n",
            "Requirement already satisfied: pytest>=3.4.0 in /usr/local/lib/python3.6/dist-packages (from bindsnet) (3.6.4)\n",
            "Requirement already satisfied: tensorboardX>=1.7 in /usr/local/lib/python3.6/dist-packages (from bindsnet) (2.0)\n",
            "Requirement already satisfied: tqdm>=4.19.9 in /usr/local/lib/python3.6/dist-packages (from bindsnet) (4.28.1)\n",
            "Requirement already satisfied: numpy>=1.14.2 in /usr/local/lib/python3.6/dist-packages (from bindsnet) (1.17.5)\n",
            "Requirement already satisfied: six in /usr/local/lib/python3.6/dist-packages (from torchvision>=0.4.0->bindsnet) (1.12.0)\n",
            "Requirement already satisfied: pillow>=4.1.1 in /usr/local/lib/python3.6/dist-packages (from torchvision>=0.4.0->bindsnet) (6.2.2)\n",
            "Requirement already satisfied: pytz>=2017.2 in /usr/local/lib/python3.6/dist-packages (from pandas>=0.23.4->bindsnet) (2018.9)\n",
            "Requirement already satisfied: python-dateutil>=2.6.1 in /usr/local/lib/python3.6/dist-packages (from pandas>=0.23.4->bindsnet) (2.6.1)\n",
            "Requirement already satisfied: joblib>=0.11 in /usr/local/lib/python3.6/dist-packages (from scikit-learn>=0.19.1->bindsnet) (0.14.1)\n",
            "Requirement already satisfied: cloudpickle~=1.2.0 in /usr/local/lib/python3.6/dist-packages (from gym>=0.10.4->bindsnet) (1.2.2)\n",
            "Requirement already satisfied: pyglet<=1.5.0,>=1.4.0 in /usr/local/lib/python3.6/dist-packages (from gym>=0.10.4->bindsnet) (1.4.10)\n",
            "Requirement already satisfied: kiwisolver>=1.0.1 in /usr/local/lib/python3.6/dist-packages (from matplotlib>=2.1.0->bindsnet) (1.1.0)\n",
            "Requirement already satisfied: pyparsing!=2.0.4,!=2.1.2,!=2.1.6,>=2.0.1 in /usr/local/lib/python3.6/dist-packages (from matplotlib>=2.1.0->bindsnet) (2.4.6)\n",
            "Requirement already satisfied: cycler>=0.10 in /usr/local/lib/python3.6/dist-packages (from matplotlib>=2.1.0->bindsnet) (0.10.0)\n",
            "Requirement already satisfied: networkx>=2.0 in /usr/local/lib/python3.6/dist-packages (from scikit-image>=0.13.1->bindsnet) (2.4)\n",
            "Requirement already satisfied: PyWavelets>=0.4.0 in /usr/local/lib/python3.6/dist-packages (from scikit-image>=0.13.1->bindsnet) (1.1.1)\n",
            "Requirement already satisfied: imageio>=2.3.0 in /usr/local/lib/python3.6/dist-packages (from scikit-image>=0.13.1->bindsnet) (2.4.1)\n",
            "Requirement already satisfied: py>=1.5.0 in /usr/local/lib/python3.6/dist-packages (from pytest>=3.4.0->bindsnet) (1.8.1)\n",
            "Requirement already satisfied: more-itertools>=4.0.0 in /usr/local/lib/python3.6/dist-packages (from pytest>=3.4.0->bindsnet) (8.2.0)\n",
            "Requirement already satisfied: atomicwrites>=1.0 in /usr/local/lib/python3.6/dist-packages (from pytest>=3.4.0->bindsnet) (1.3.0)\n",
            "Requirement already satisfied: setuptools in /usr/local/lib/python3.6/dist-packages (from pytest>=3.4.0->bindsnet) (45.2.0)\n",
            "Requirement already satisfied: pluggy<0.8,>=0.5 in /usr/local/lib/python3.6/dist-packages (from pytest>=3.4.0->bindsnet) (0.7.1)\n",
            "Requirement already satisfied: attrs>=17.4.0 in /usr/local/lib/python3.6/dist-packages (from pytest>=3.4.0->bindsnet) (19.3.0)\n",
            "Requirement already satisfied: protobuf>=3.8.0 in /usr/local/lib/python3.6/dist-packages (from tensorboardX>=1.7->bindsnet) (3.10.0)\n",
            "Requirement already satisfied: future in /usr/local/lib/python3.6/dist-packages (from pyglet<=1.5.0,>=1.4.0->gym>=0.10.4->bindsnet) (0.16.0)\n",
            "Requirement already satisfied: decorator>=4.3.0 in /usr/local/lib/python3.6/dist-packages (from networkx>=2.0->scikit-image>=0.13.1->bindsnet) (4.4.1)\n"
          ],
          "name": "stdout"
        }
      ]
    },
    {
      "cell_type": "code",
      "metadata": {
        "id": "FBW7XZCrsMXV",
        "colab_type": "code",
        "outputId": "442d36b0-5648-4ccd-d908-cc8b26df313f",
        "colab": {
          "base_uri": "https://localhost:8080/",
          "height": 34
        }
      },
      "source": [
        "pip install easydict"
      ],
      "execution_count": 11,
      "outputs": [
        {
          "output_type": "stream",
          "text": [
            "Requirement already satisfied: easydict in /usr/local/lib/python3.6/dist-packages (1.9)\n"
          ],
          "name": "stdout"
        }
      ]
    },
    {
      "cell_type": "code",
      "metadata": {
        "id": "N1RJPs4dNBsY",
        "colab_type": "code",
        "colab": {}
      },
      "source": [
        "import os\n",
        "import numpy as np\n",
        "import torch\n",
        "import torch.nn as nn\n",
        "import argparse\n",
        "import matplotlib.pyplot as plt\n",
        "\n",
        "from torchvision import transforms\n",
        "from tqdm import tqdm_notebook as tqdm\n",
        "from bindsnet.analysis.plotting import (\n",
        "    plot_input,\n",
        "    plot_spikes,\n",
        "    plot_voltages,\n",
        "    plot_weights,\n",
        ")\n",
        "from bindsnet.datasets import MNIST\n",
        "from bindsnet.encoding import PoissonEncoder\n",
        "from bindsnet.network import Network\n",
        "from bindsnet.network.nodes import Input\n",
        "\n",
        "# Build a simple two-layer, input-output network.\n",
        "from bindsnet.network.monitors import Monitor\n",
        "from bindsnet.network.nodes import LIFNodes\n",
        "from bindsnet.network.topology import Connection\n",
        "from bindsnet.utils import get_square_weights\n",
        "\n",
        "import easydict"
      ],
      "execution_count": 0,
      "outputs": []
    },
    {
      "cell_type": "code",
      "metadata": {
        "_cell_guid": "79c7e3d0-c299-4dcb-8224-4455121ee9b0",
        "_uuid": "d629ff2d2480ee46fbb7e2d37f6b5fab8052498a",
        "id": "RtYydfQ6sMXZ",
        "colab_type": "code",
        "outputId": "7056855e-b61e-4d66-952c-96b64cdbb41d",
        "colab": {
          "base_uri": "https://localhost:8080/",
          "height": 366,
          "referenced_widgets": [
            "a3491f047e6548f28071b5f109aa065f",
            "dc66181aa27f4389af1120528ad78104",
            "8dd96e5babc24552b54faa35ca9bcc38",
            "2fd149ea6c264a1c94501a3a6fad0564",
            "8862a1ae3c66429f9e496e4f419408ae",
            "a39971a5d55844aba7a68fdd7e304631",
            "9f8df752edad4c13a0325cc27e69f107",
            "c8a548dcde3f4d5397495889511d6ca5",
            "fd08bacf0a9e438d8d7ae85e6758b124",
            "722b3aeaf9744b3995885f7386407e25",
            "3cedcbc5a93b4f49af8bbf09df4c1a3f",
            "f54f9d8f8a3741eaae1ce6aacdbb7761",
            "479f8dbd56d44112b7cb4da91dc2cb9d",
            "36d08755270c4e6093d154d9aec6da8f",
            "3791cd41554c44f88abd5ea254ecb807",
            "eea00d30d0e6438cb20ab8168186647e",
            "11978b9cbdd0442884d273bd00dc978f",
            "acfbd3eac1304048bda8ec91f60b38c9",
            "25bffd711fad49409e21f8ca9843bc00",
            "884af06f676b4cabbc7022b2782903ae",
            "1b12f8a462d84be5904d2c02cc3e5b80",
            "b288d77a32f74cb6abc71af08ccf8c94",
            "80096528262d46de8af9cca494b44438",
            "078315fc6ecc4698b5d929e6c179ee4d"
          ]
        }
      },
      "source": [
        "args = easydict.EasyDict({\n",
        "        \"seed\": 0,\n",
        "        \"n_neurons\": 500,\n",
        "        \"n_epochs\": 100,\n",
        "        \"n_examples\": 1000,\n",
        "        \"n_workers\": -1,\n",
        "        \"time\": 251,\n",
        "        \"dt\": 1.0,\n",
        "        \"intensity\": 64,\n",
        "        \"progress_interval\": 10,\n",
        "        \"update_interval\": 250,\n",
        "        \"gpu\": True,\n",
        "        \"device_id\": 0,\n",
        "        \"train\": True\n",
        "})\n",
        "\n",
        "#parser = argparse.ArgumentParser()\n",
        "#parser.add_argument(\"--seed\", type=int, default=0)\n",
        "#parser.add_argument(\"--n_neurons\", type=int, default=500)\n",
        "#parser.add_argument(\"--n_epochs\", type=int, default=100)\n",
        "#parser.add_argument(\"--examples\", type=int, default=500)\n",
        "#parser.add_argument(\"--n_workers\", type=int, default=-1)\n",
        "#parser.add_argument(\"--time\", type=int, default=250)\n",
        "#parser.add_argument(\"--dt\", type=int, default=1.0)\n",
        "#parser.add_argument(\"--intensity\", type=float, default=64)\n",
        "#parser.add_argument(\"--progress_interval\", type=int, default=10)\n",
        "#parser.add_argument(\"--update_interval\", type=int, default=250)\n",
        "#parser.add_argument(\"--plot\", dest=\"plot\", action=\"store_true\")\n",
        "#parser.add_argument(\"--gpu\", dest=\"gpu\", action=\"store_true\")\n",
        "#parser.add_argument(\"--device_id\", type=int, default=0)\n",
        "#parser.set_defaults(plot=True, gpu=False, train=True) \n",
        "\n",
        "#args = parser.parse_args()\n",
        "\n",
        "seed = args.seed\n",
        "n_neurons = args.n_neurons\n",
        "n_epochs = args.n_epochs\n",
        "n_examples = args.n_examples\n",
        "n_workers = args.n_workers\n",
        "time = args.time\n",
        "dt = args.dt\n",
        "intensity = args.intensity\n",
        "progress_interval = args.progress_interval\n",
        "update_interval = args.update_interval\n",
        "train = args.train\n",
        "gpu = args.gpu\n",
        "device_id = args.device_id\n",
        "n_iters = n_examples\n",
        "\n",
        "np.random.seed(seed)\n",
        "torch.cuda.manual_seed_all(seed)\n",
        "torch.manual_seed(seed)\n",
        "\n",
        "# Sets up Gpu use\n",
        "if gpu and torch.cuda.is_available():\n",
        "    torch.cuda.set_device(device_id)\n",
        "    # torch.set_default_tensor_type('torch.cuda.FloatTensor')\n",
        "else:\n",
        "    torch.manual_seed(seed)\n",
        "\n",
        "# dt: the simulation time step\n",
        "network = Network(dt=dt)\n",
        "\n",
        "# 入力層\n",
        "inpt = Input(2, shape=(1,2))\n",
        "network.add_layer(inpt, name=\"I\")\n",
        "\n",
        "# リザーバー層\n",
        "output = LIFNodes(n_neurons, thresh=-52 + np.random.randn(n_neurons).astype(float))\n",
        "network.add_layer(output, name=\"O\")\n",
        "\n",
        "# 入力層->リザーバー層とリザーバー層->リザーバー層のコネクションを作成\n",
        "C1 = Connection(source=inpt, target=output, w=0.5 * torch.randn(inpt.n, output.n))\n",
        "C2 = Connection(source=output, target=output, w=0.5 * torch.randn(output.n, output.n))\n",
        "network.add_connection(C1, source=\"I\", target=\"O\")\n",
        "network.add_connection(C2, source=\"O\", target=\"O\")\n",
        "\n",
        "# スパイクのモニター(入力、リザーバー)\n",
        "spikes = {}\n",
        "for l in network.layers:\n",
        "    spikes[l] = Monitor(network.layers[l], [\"s\"], time=time)\n",
        "    network.add_monitor(spikes[l], name=\"%s_spikes\" % l)\n",
        "\n",
        "# ボルトのモニター(リザーバー)\n",
        "voltages = {\"O\": Monitor(network.layers[\"O\"], [\"v\"], time=time)}\n",
        "network.add_monitor(voltages[\"O\"], name=\"O_voltages\")\n",
        "\n",
        "# Directs network to GPU\n",
        "if gpu:\n",
        "    network.to(\"cuda\")\n",
        "\n",
        "# dataset作成\n",
        "class MyDataset(torch.utils.data.Dataset):\n",
        "    # xy.shape = (n, time, xy)\n",
        "    # F.shape = (n, time, F)\n",
        "    def __init__(self, xy, F, transform=None):\n",
        "        self.transform = transform\n",
        "        self.data_num = xy.shape[0]\n",
        "        self.data = xy\n",
        "        self.label = F\n",
        "\n",
        "    def __len__(self):\n",
        "        return self.data_num\n",
        "\n",
        "    def __getitem__(self, idx):\n",
        "        out_data = self.data[idx]\n",
        "        out_label =  self.label[idx]\n",
        "\n",
        "        if self.transform:\n",
        "            out_data = self.transform(out_data)\n",
        "\n",
        "        return out_data, out_label\n",
        "\n",
        "train_data = pd.read_csv(\"train_data.csv\", header = None)\n",
        "train_data = np.array(train_data)\n",
        "train_data = train_data.reshape((1000,251,4))\n",
        "# from IPython.core.debugger import Pdb; Pdb().set_trace()\n",
        "xy = train_data[:,:,0:2]\n",
        "F = train_data[:,:,2:4]\n",
        "dataset = MyDataset(xy, F, transform=None)\n",
        "\n",
        "# Create a dataloader to iterate and batch data\n",
        "dataloader = torch.utils.data.DataLoader(\n",
        "    dataset, batch_size=1, shuffle=True, num_workers=0, pin_memory=gpu\n",
        ")\n",
        "\n",
        "# Run training data on reservoir computer and store (spikes per neuron, label) per example.\n",
        "train_pairs = []\n",
        "pbar = tqdm(enumerate(dataloader))\n",
        "\n",
        "# from IPython.core.debugger import Pdb; Pdb().set_trace()\n",
        "# このループではトレーニングデータを作成していると考えて良い\n",
        "# q = int((bs-1)/2)\n",
        "for (i, dataPoint) in pbar:\n",
        "    # data, labelを取り出している\n",
        "    # from IPython.core.debugger import Pdb; Pdb().set_trace()\n",
        "    datum = dataPoint[0].view(time, 2).to(device_id)\n",
        "    label = dataPoint[1].view(time, 2)\n",
        "    pbar.set_description_str(\"Train progress: (%d / %d)\" % (i, n_iters))\n",
        "    # 時間を1つ進める\n",
        "    network.run(inputs={\"I\": datum}, time=1, input_time_dim=1)\n",
        "    # リザーバー層の状態とラベルをトレーニングデータとして保存\n",
        "    train_pairs.append([spikes[\"O\"].get(\"s\").sum(0), label])\n",
        "\n",
        "    network.reset_state_variables()\n",
        "np.save(\"training_pairs\", train_pairs)\n",
        "# Define logistic regression model using PyTorch.\n",
        "\n",
        "# training_pairs = np.load(\"training_pairs.npy\", allow_pickle=True)\n",
        "# 回帰モデル\n",
        "class NN(nn.Module):\n",
        "    def __init__(self, input_size):\n",
        "        super(NN, self).__init__()\n",
        "        #h = int(input_size/2)\n",
        "        # self.linear_1 = nn.Linear(input_size, num_classes)\n",
        "        # self.linear_1 = nn.Linear(input_size, h)\n",
        "        # self.linear_2 = nn.Linear(h, 2)\n",
        "        self.linear = nn.Linear(input_size, 2)\n",
        "\n",
        "    def forward(self, x):\n",
        "        # out = torch.relu(self.linear_1(x.float().view(-1)))\n",
        "        # out = self.linear_2(out)\n",
        "        out = self.linear(x.float().view(-1))\n",
        "        return out\n",
        "\n",
        "# Create and train logistic regression model on reservoir outputs.\n",
        "model = NN(n_neurons).to(device_id)\n",
        "criterion = torch.nn.MSELoss(reduction=\"sum\")\n",
        "# optimizer = torch.optim.SGD(model.parameters(), lr=1e-4, momentum=0.9)\n",
        "optimizer = torch.optim.Adam(model.parameters(), lr=1e-4, betas=(0.9, 0.999))\n",
        "\n",
        "# Training the Model\n",
        "# 回帰モデルを先ほど生成したデータでトレーニング\n",
        "print(\"\\n Training the read out\")\n",
        "# model.load_state_dict(torch.load(\"model\"))\n",
        "pbar = tqdm(enumerate(range(n_epochs)))\n",
        "for epoch, _ in pbar:\n",
        "    avg_loss = 0\n",
        "    for i, (s, l) in enumerate(training_pairs):\n",
        "        # Forward + Backward + Optimize\n",
        "        optimizer.zero_grad()\n",
        "        outputs = model(s.view(-1))\n",
        "        label = l.float().to(device_id)\n",
        "        loss = criterion(outputs, label)\n",
        "        avg_loss += loss.data\n",
        "        loss.backward()\n",
        "        optimizer.step()\n",
        "    pbar.set_description_str(\n",
        "        \"Epoch: %d/%d, Loss: %.4f\"\n",
        "        % (epoch + 1, n_epochs, avg_loss / len(training_pairs))\n",
        "    )\n",
        "\n",
        "torch.save(model.state_dict(), \"model\")\n",
        "\"\"\"\n",
        "test_pairs = []\n",
        "pbar = tqdm(enumerate(dataloader))\n",
        "for (i, dataPoint) in pbar:\n",
        "    datum = dataPoint[0].view(time, 2)\n",
        "    labels = dataPoint[1].view(time, 2)\n",
        "    pbar.set_description_str(\"Testing progress: (%d / %d)\" % (i, n_iters))\n",
        "\n",
        "    for j in range(q, datum.shape[0]-q):\n",
        "        data = datum[ j-q : j+q+1 ].to(device_id)\n",
        "        data = data[np.newaxis,np.newaxis,:,:]\n",
        "        label = labels[j]\n",
        "        # 時間を1つ進める\n",
        "        network.run(inputs={\"I\": data}, time=1, input_time_dim=1)\n",
        "        # リザーバー層の状態とラベルをトレーニングデータとして保存\n",
        "        test_pairs.append([spikes[\"O\"].get(\"s\").sum(0), label])\n",
        "\n",
        "    network.reset_state_variables()\n",
        "\n",
        "np.save(\"test_pairs\", test_pairs)\n",
        "\"\"\"\n",
        "# test_pairs = np.load(\"test_pairs.npy\", allow_pickle=True)\n",
        "\n",
        "# Test the Model\n",
        "# 作成したテストデータでロジスティック回帰モデルをテスト\n",
        "loss, total = 0, 0\n",
        "for s, label in train_pairs:\n",
        "    outputs = model(s)\n",
        "    loss += criterion(outputs, label.float().to(device_id)).data\n",
        "    total += 1\n",
        "\n",
        "print(\n",
        "    \"\\n Accuracy of the model on %d test images: %.2f %%\"\n",
        "    % (n_iters, loss / total)\n",
        ")"
      ],
      "execution_count": 24,
      "outputs": [
        {
          "output_type": "display_data",
          "data": {
            "application/vnd.jupyter.widget-view+json": {
              "model_id": "a3491f047e6548f28071b5f109aa065f",
              "version_minor": 0,
              "version_major": 2
            },
            "text/plain": [
              "HBox(children=(IntProgress(value=1, bar_style='info', max=1), HTML(value='')))"
            ]
          },
          "metadata": {
            "tags": []
          }
        },
        {
          "output_type": "stream",
          "text": [
            "\n",
            " Training the read out\n"
          ],
          "name": "stdout"
        },
        {
          "output_type": "display_data",
          "data": {
            "application/vnd.jupyter.widget-view+json": {
              "model_id": "fd08bacf0a9e438d8d7ae85e6758b124",
              "version_minor": 0,
              "version_major": 2
            },
            "text/plain": [
              "HBox(children=(IntProgress(value=1, bar_style='info', max=1), HTML(value='')))"
            ]
          },
          "metadata": {
            "tags": []
          }
        },
        {
          "output_type": "display_data",
          "data": {
            "application/vnd.jupyter.widget-view+json": {
              "model_id": "11978b9cbdd0442884d273bd00dc978f",
              "version_minor": 0,
              "version_major": 2
            },
            "text/plain": [
              "HBox(children=(IntProgress(value=1, bar_style='info', max=1), HTML(value='')))"
            ]
          },
          "metadata": {
            "tags": []
          }
        },
        {
          "output_type": "error",
          "ename": "NameError",
          "evalue": "ignored",
          "traceback": [
            "\u001b[0;31m---------------------------------------------------------------------------\u001b[0m",
            "\u001b[0;31mNameError\u001b[0m                                 Traceback (most recent call last)",
            "\u001b[0;32m<ipython-input-24-3a828bdb9156>\u001b[0m in \u001b[0;36m<module>\u001b[0;34m()\u001b[0m\n\u001b[1;32m    200\u001b[0m     \u001b[0mpbar\u001b[0m\u001b[0;34m.\u001b[0m\u001b[0mset_description_str\u001b[0m\u001b[0;34m(\u001b[0m\u001b[0;34m\"Testing progress: (%d / %d)\"\u001b[0m \u001b[0;34m%\u001b[0m \u001b[0;34m(\u001b[0m\u001b[0mi\u001b[0m\u001b[0;34m,\u001b[0m \u001b[0mn_iters\u001b[0m\u001b[0;34m)\u001b[0m\u001b[0;34m)\u001b[0m\u001b[0;34m\u001b[0m\u001b[0;34m\u001b[0m\u001b[0m\n\u001b[1;32m    201\u001b[0m \u001b[0;34m\u001b[0m\u001b[0m\n\u001b[0;32m--> 202\u001b[0;31m     \u001b[0;32mfor\u001b[0m \u001b[0mj\u001b[0m \u001b[0;32min\u001b[0m \u001b[0mrange\u001b[0m\u001b[0;34m(\u001b[0m\u001b[0mq\u001b[0m\u001b[0;34m,\u001b[0m \u001b[0mdatum\u001b[0m\u001b[0;34m.\u001b[0m\u001b[0mshape\u001b[0m\u001b[0;34m[\u001b[0m\u001b[0;36m0\u001b[0m\u001b[0;34m]\u001b[0m\u001b[0;34m-\u001b[0m\u001b[0mq\u001b[0m\u001b[0;34m)\u001b[0m\u001b[0;34m:\u001b[0m\u001b[0;34m\u001b[0m\u001b[0;34m\u001b[0m\u001b[0m\n\u001b[0m\u001b[1;32m    203\u001b[0m         \u001b[0mdata\u001b[0m \u001b[0;34m=\u001b[0m \u001b[0mdatum\u001b[0m\u001b[0;34m[\u001b[0m \u001b[0mj\u001b[0m\u001b[0;34m-\u001b[0m\u001b[0mq\u001b[0m \u001b[0;34m:\u001b[0m \u001b[0mj\u001b[0m\u001b[0;34m+\u001b[0m\u001b[0mq\u001b[0m\u001b[0;34m+\u001b[0m\u001b[0;36m1\u001b[0m \u001b[0;34m]\u001b[0m\u001b[0;34m.\u001b[0m\u001b[0mto\u001b[0m\u001b[0;34m(\u001b[0m\u001b[0mdevice_id\u001b[0m\u001b[0;34m)\u001b[0m\u001b[0;34m\u001b[0m\u001b[0;34m\u001b[0m\u001b[0m\n\u001b[1;32m    204\u001b[0m         \u001b[0mdata\u001b[0m \u001b[0;34m=\u001b[0m \u001b[0mdata\u001b[0m\u001b[0;34m[\u001b[0m\u001b[0mnp\u001b[0m\u001b[0;34m.\u001b[0m\u001b[0mnewaxis\u001b[0m\u001b[0;34m,\u001b[0m\u001b[0mnp\u001b[0m\u001b[0;34m.\u001b[0m\u001b[0mnewaxis\u001b[0m\u001b[0;34m,\u001b[0m\u001b[0;34m:\u001b[0m\u001b[0;34m,\u001b[0m\u001b[0;34m:\u001b[0m\u001b[0;34m]\u001b[0m\u001b[0;34m\u001b[0m\u001b[0;34m\u001b[0m\u001b[0m\n",
            "\u001b[0;31mNameError\u001b[0m: name 'q' is not defined"
          ]
        }
      ]
    },
    {
      "cell_type": "code",
      "metadata": {
        "id": "6aGflbQDG2r0",
        "colab_type": "code",
        "outputId": "e18146b3-a0b7-454d-94f7-6b7483cca5da",
        "colab": {
          "base_uri": "https://localhost:8080/",
          "height": 34
        }
      },
      "source": [
        "np.array(training_pairs).shape"
      ],
      "execution_count": 0,
      "outputs": [
        {
          "output_type": "execute_result",
          "data": {
            "text/plain": [
              "(29600, 2)"
            ]
          },
          "metadata": {
            "tags": []
          },
          "execution_count": 9
        }
      ]
    },
    {
      "cell_type": "code",
      "metadata": {
        "id": "x-Grbply8g1I",
        "colab_type": "code",
        "colab": {}
      },
      "source": [
        "np.save(\"training_pairs\", training_pairs)\n",
        "np.save(\"test_pairs\", test_pairs)"
      ],
      "execution_count": 0,
      "outputs": []
    },
    {
      "cell_type": "code",
      "metadata": {
        "id": "v6ZIIGGi_evg",
        "colab_type": "code",
        "outputId": "149da5c2-6caa-4f69-bc8b-ba0f34cc1741",
        "colab": {
          "base_uri": "https://localhost:8080/",
          "height": 282
        }
      },
      "source": [
        "n = 100\n",
        "test_pairs_ = test_pairs[296*n:296*(n+1)]\n",
        "theta1 = []\n",
        "theta2 = []\n",
        "true_theta1 = []\n",
        "true_theta2 = []\n",
        "for s, label in test_pairs_:\n",
        "    theta1.append(model(s)[0])\n",
        "    theta2.append(model(s)[1])\n",
        "    true_theta1.append(label[0])\n",
        "    true_theta2.append(label[1])\n",
        "x_, y_ = theta_to_xy(theta1,theta2)\n",
        "true_x, true_y = theta_to_xy(true_theta1, true_theta2)\n",
        "plt.plot(x_,y_)\n",
        "plt.plot(true_x, true_y)"
      ],
      "execution_count": 0,
      "outputs": [
        {
          "output_type": "execute_result",
          "data": {
            "text/plain": [
              "[<matplotlib.lines.Line2D at 0x7fae08c9c0b8>]"
            ]
          },
          "metadata": {
            "tags": []
          },
          "execution_count": 56
        },
        {
          "output_type": "display_data",
          "data": {
            "image/png": "[encoded data removed]",
            "text/plain": [
              "<Figure size 432x288 with 1 Axes>"
            ]
          },
          "metadata": {
            "tags": []
          }
        }
      ]
    }
  ]
}